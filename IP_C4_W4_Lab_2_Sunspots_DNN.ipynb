{
  "cells": [
    {
      "cell_type": "markdown",
      "metadata": {
        "id": "view-in-github",
        "colab_type": "text"
      },
      "source": [
        "<a href=\"https://colab.research.google.com/github/Ilayaperumal/DeepLearning.AI-_Sequences-Time-Series-and-Prediction/blob/main/IP_C4_W4_Lab_2_Sunspots_DNN.ipynb\" target=\"_parent\"><img src=\"https://colab.research.google.com/assets/colab-badge.svg\" alt=\"Open In Colab\"/></a>"
      ]
    },
    {
      "cell_type": "markdown",
      "metadata": {
        "id": "-sl7WjI525Oo"
      },
      "source": [
        "<a href=\"https://colab.research.google.com/github/https-deeplearning-ai/tensorflow-1-public/blob/main/C4/W4/ungraded_labs/C4_W4_Lab_2_Sunspots_DNN.ipynb\" target=\"_parent\"><img src=\"https://colab.research.google.com/assets/colab-badge.svg\" alt=\"Open In Colab\"/></a>"
      ]
    },
    {
      "cell_type": "markdown",
      "metadata": {
        "id": "JQsk1BKwZrBh"
      },
      "source": [
        "# Ungraded Lab: Predicting Sunspots with Neural Networks (DNN only)\n",
        "\n",
        "In the remaining labs for this week, you will move away from synthetic time series and start building models for real world data. In particular, you will train on the [Sunspots](https://www.kaggle.com/datasets/robervalt/sunspots) dataset: a monthly record of sunspot numbers from January 1749 to July 2018. You will first build a deep neural network here composed of dense layers. This will act as your baseline so you can compare it to the next lab where you will use a more complex architecture.\n",
        "\n",
        "Let's begin!"
      ]
    },
    {
      "cell_type": "markdown",
      "metadata": {
        "id": "2JHlrB12aeFD"
      },
      "source": [
        "## Imports\n",
        "\n",
        "You will use the same imports as before with the addition of the [csv](https://docs.python.org/3/library/csv.html) module. You will need this to parse the CSV file containing the dataset."
      ]
    },
    {
      "cell_type": "code",
      "execution_count": 1,
      "metadata": {
        "id": "56XEQOGknrAk"
      },
      "outputs": [],
      "source": [
        "import tensorflow as tf\n",
        "import numpy as np\n",
        "import matplotlib.pyplot as plt\n",
        "import csv"
      ]
    },
    {
      "cell_type": "markdown",
      "metadata": {
        "id": "D-mNttnaagBH"
      },
      "source": [
        "## Utilities\n",
        "\n",
        "You will only have the `plot_series()` dataset here because you no longer need the synthetic data generation functions."
      ]
    },
    {
      "cell_type": "code",
      "execution_count": 2,
      "metadata": {
        "id": "sLl52leVp5wU"
      },
      "outputs": [],
      "source": [
        "def plot_series(x, y, format=\"-\", start=0, end=None, \n",
        "                title=None, xlabel=None, ylabel=None, legend=None ):\n",
        "    \"\"\"\n",
        "    Visualizes time series data\n",
        "\n",
        "    Args:\n",
        "      x (array of int) - contains values for the x-axis\n",
        "      y (array of int or tuple of arrays) - contains the values for the y-axis\n",
        "      format (string) - line style when plotting the graph\n",
        "      label (string) - tag for the line\n",
        "      start (int) - first time step to plot\n",
        "      end (int) - last time step to plot\n",
        "      title (string) - title of the plot\n",
        "      xlabel (string) - label for the x-axis\n",
        "      ylabel (string) - label for the y-axis\n",
        "      legend (list of strings) - legend for the plot\n",
        "    \"\"\"\n",
        "\n",
        "    # Setup dimensions of the graph figure\n",
        "    plt.figure(figsize=(10, 6))\n",
        "    \n",
        "    # Check if there are more than two series to plot\n",
        "    if type(y) is tuple:\n",
        "\n",
        "      # Loop over the y elements\n",
        "      for y_curr in y:\n",
        "\n",
        "        # Plot the x and current y values\n",
        "        plt.plot(x[start:end], y_curr[start:end], format)\n",
        "\n",
        "    else:\n",
        "      # Plot the x and y values\n",
        "      plt.plot(x[start:end], y[start:end], format)\n",
        "\n",
        "    # Label the x-axis\n",
        "    plt.xlabel(xlabel)\n",
        "\n",
        "    # Label the y-axis\n",
        "    plt.ylabel(ylabel)\n",
        "\n",
        "    # Set the legend\n",
        "    if legend:\n",
        "      plt.legend(legend)\n",
        "\n",
        "    # Set the title\n",
        "    plt.title(title)\n",
        "\n",
        "    # Overlay a grid on the graph\n",
        "    plt.grid(True)\n",
        "\n",
        "    # Draw the graph on screen\n",
        "    plt.show()"
      ]
    },
    {
      "cell_type": "markdown",
      "metadata": {
        "id": "dFJv45pDauS8"
      },
      "source": [
        "## Download and Preview the Dataset\n",
        "\n",
        "You can now download the dataset and inspect the contents. The link in class is from Laurence's repo but we also hosted it in the link below."
      ]
    },
    {
      "cell_type": "code",
      "execution_count": 3,
      "metadata": {
        "id": "YwI-si5xyUkQ",
        "colab": {
          "base_uri": "https://localhost:8080/"
        },
        "outputId": "d36a0c7c-4c56-48d7-f2f1-c6ed1ab17cf3"
      },
      "outputs": [
        {
          "output_type": "stream",
          "name": "stdout",
          "text": [
            "--2023-02-13 13:00:18--  https://storage.googleapis.com/tensorflow-1-public/course4/Sunspots.csv\n",
            "Resolving storage.googleapis.com (storage.googleapis.com)... 108.177.97.128, 108.177.125.128, 142.250.157.128, ...\n",
            "Connecting to storage.googleapis.com (storage.googleapis.com)|108.177.97.128|:443... connected.\n",
            "HTTP request sent, awaiting response... 200 OK\n",
            "Length: 70827 (69K) [text/csv]\n",
            "Saving to: ‘Sunspots.csv’\n",
            "\n",
            "\rSunspots.csv          0%[                    ]       0  --.-KB/s               \rSunspots.csv        100%[===================>]  69.17K  --.-KB/s    in 0.001s  \n",
            "\n",
            "2023-02-13 13:00:19 (83.2 MB/s) - ‘Sunspots.csv’ saved [70827/70827]\n",
            "\n"
          ]
        }
      ],
      "source": [
        "# Download the dataset\n",
        "!wget https://storage.googleapis.com/tensorflow-1-public/course4/Sunspots.csv"
      ]
    },
    {
      "cell_type": "markdown",
      "metadata": {
        "id": "c0fAiMytrwPJ"
      },
      "source": [
        "Running the cell below, you'll see that there are only three columns in the dataset:\n",
        "1. untitled column containing the month number\n",
        "2. Date which has the format `YYYY-MM-DD`\n",
        "3. Mean Total Sunspot Number"
      ]
    },
    {
      "cell_type": "code",
      "execution_count": 4,
      "metadata": {
        "id": "d5W2auXKrhVh",
        "colab": {
          "base_uri": "https://localhost:8080/"
        },
        "outputId": "2ddea993-a2c2-4a4d-98fc-0253d64f89f1"
      },
      "outputs": [
        {
          "output_type": "stream",
          "name": "stdout",
          "text": [
            ",Date,Monthly Mean Total Sunspot Number\r\n",
            "0,1749-01-31,96.7\r\n",
            "1,1749-02-28,104.3\r\n",
            "2,1749-03-31,116.7\r\n",
            "3,1749-04-30,92.8\r\n",
            "4,1749-05-31,141.7\r\n",
            "5,1749-06-30,139.2\r\n",
            "6,1749-07-31,158.0\r\n",
            "7,1749-08-31,110.5\r\n",
            "8,1749-09-30,126.5\r\n"
          ]
        }
      ],
      "source": [
        "# Preview the dataset\n",
        "!head Sunspots.csv"
      ]
    },
    {
      "cell_type": "markdown",
      "metadata": {
        "id": "lbs-Y2SDsVaw"
      },
      "source": [
        "For this lab and the next, you will only need the month number and the mean total sunspot number. You will load those into memory and convert it to arrays that represents a time series."
      ]
    },
    {
      "cell_type": "code",
      "execution_count": 5,
      "metadata": {
        "id": "NcG9r1eClbTh",
        "colab": {
          "base_uri": "https://localhost:8080/",
          "height": 388
        },
        "outputId": "5ea25a3f-4323-483b-f9e6-a61eda13f349"
      },
      "outputs": [
        {
          "output_type": "display_data",
          "data": {
            "text/plain": [
              "<Figure size 720x432 with 1 Axes>"
            ],
            "image/png": "[encoded data removed]"
          },
          "metadata": {
            "needs_background": "light"
          }
        }
      ],
      "source": [
        "# Initialize lists\n",
        "time_step = []\n",
        "sunspots = []\n",
        "\n",
        "# Open CSV file\n",
        "with open('./Sunspots.csv') as csvfile:\n",
        "  \n",
        "  # Initialize reader\n",
        "  reader = csv.reader(csvfile, delimiter=',')\n",
        "  \n",
        "  # Skip the first line\n",
        "  next(reader)\n",
        "  \n",
        "  # Append row and sunspot number to lists\n",
        "  for row in reader:\n",
        "    time_step.append(int(row[0]))\n",
        "    sunspots.append(float(row[2]))\n",
        "\n",
        "# Convert lists to numpy arrays\n",
        "time = np.array(time_step)\n",
        "series = np.array(sunspots)\n",
        "\n",
        "# Preview the data\n",
        "plot_series(time, series, xlabel='Month', ylabel='Monthly Mean Total Sunspot Number')"
      ]
    },
    {
      "cell_type": "markdown",
      "metadata": {
        "id": "EUQE9RRoazC5"
      },
      "source": [
        "## Split the Dataset\n",
        "\n",
        "Next, you will split the dataset into training and validation sets. There are 3235 points in the dataset and you will use the first 3000 for training."
      ]
    },
    {
      "cell_type": "code",
      "execution_count": 6,
      "metadata": {
        "id": "L92YRw_IpCFG"
      },
      "outputs": [],
      "source": [
        "# Define the split time\n",
        "split_time = 3000\n",
        "\n",
        "# Get the train set \n",
        "time_train = time[:split_time]\n",
        "x_train = series[:split_time]\n",
        "\n",
        "# Get the validation set\n",
        "time_valid = time[split_time:]\n",
        "x_valid = series[split_time:]"
      ]
    },
    {
      "cell_type": "markdown",
      "metadata": {
        "id": "RbuIOrb3a093"
      },
      "source": [
        "## Prepare Features and Labels\n",
        "\n",
        "You can then prepare the dataset windows as before. The window size is set to 30 points (equal to 2.5 years) but feel free to change later on if you want to experiment."
      ]
    },
    {
      "cell_type": "code",
      "execution_count": 7,
      "metadata": {
        "id": "lJwUUZscnG38"
      },
      "outputs": [],
      "source": [
        "def windowed_dataset(series, window_size, batch_size, shuffle_buffer):\n",
        "    \"\"\"Generates dataset windows\n",
        "\n",
        "    Args:\n",
        "      series (array of float) - contains the values of the time series\n",
        "      window_size (int) - the number of time steps to include in the feature\n",
        "      batch_size (int) - the batch size\n",
        "      shuffle_buffer(int) - buffer size to use for the shuffle method\n",
        "\n",
        "    Returns:\n",
        "      dataset (TF Dataset) - TF Dataset containing time windows\n",
        "    \"\"\"\n",
        "  \n",
        "    # Generate a TF Dataset from the series values\n",
        "    dataset = tf.data.Dataset.from_tensor_slices(series)\n",
        "    \n",
        "    # Window the data but only take those with the specified size\n",
        "    dataset = dataset.window(window_size + 1, shift=1, drop_remainder=True)\n",
        "    \n",
        "    # Flatten the windows by putting its elements in a single batch\n",
        "    dataset = dataset.flat_map(lambda window: window.batch(window_size + 1))\n",
        "\n",
        "    # Create tuples with features and labels \n",
        "    dataset = dataset.map(lambda window: (window[:-1], window[-1]))\n",
        "\n",
        "    # Shuffle the windows\n",
        "    dataset = dataset.shuffle(shuffle_buffer)\n",
        "    \n",
        "    # Create batches of windows\n",
        "    dataset = dataset.batch(batch_size).prefetch(1)\n",
        "    \n",
        "    return dataset"
      ]
    },
    {
      "cell_type": "code",
      "execution_count": 8,
      "metadata": {
        "id": "9g5zSxZwZQt_",
        "colab": {
          "base_uri": "https://localhost:8080/"
        },
        "outputId": "cd6d73de-70bc-4bff-bc94-6bfca0b3864d"
      },
      "outputs": [
        {
          "output_type": "stream",
          "name": "stderr",
          "text": [
            "WARNING:tensorflow:From /usr/local/lib/python3.8/dist-packages/tensorflow/python/autograph/pyct/static_analysis/liveness.py:83: Analyzer.lamba_check (from tensorflow.python.autograph.pyct.static_analysis.liveness) is deprecated and will be removed after 2023-09-23.\n",
            "Instructions for updating:\n",
            "Lambda fuctions will be no more assumed to be used in the statement where they are used, or at least in the same block. https://github.com/tensorflow/tensorflow/issues/56089\n"
          ]
        }
      ],
      "source": [
        "# Parameters\n",
        "window_size = 30\n",
        "batch_size = 32\n",
        "shuffle_buffer_size = 1000\n",
        "\n",
        "# Generate the dataset windows\n",
        "train_set = windowed_dataset(x_train, window_size, batch_size, shuffle_buffer_size)"
      ]
    },
    {
      "cell_type": "markdown",
      "metadata": {
        "id": "_Lhpi42ta5yP"
      },
      "source": [
        "## Build the Model\n",
        "\n",
        "The model will be 3-layer dense network as shown below."
      ]
    },
    {
      "cell_type": "code",
      "execution_count": 9,
      "metadata": {
        "id": "AclfYY3Mn6Ph",
        "colab": {
          "base_uri": "https://localhost:8080/"
        },
        "outputId": "4d0a9286-ebde-48f5-f8ad-45b330164080"
      },
      "outputs": [
        {
          "output_type": "stream",
          "name": "stdout",
          "text": [
            "Model: \"sequential\"\n",
            "_________________________________________________________________\n",
            " Layer (type)                Output Shape              Param #   \n",
            "=================================================================\n",
            " dense (Dense)               (None, 30)                930       \n",
            "                                                                 \n",
            " dense_1 (Dense)             (None, 10)                310       \n",
            "                                                                 \n",
            " dense_2 (Dense)             (None, 1)                 11        \n",
            "                                                                 \n",
            "=================================================================\n",
            "Total params: 1,251\n",
            "Trainable params: 1,251\n",
            "Non-trainable params: 0\n",
            "_________________________________________________________________\n"
          ]
        }
      ],
      "source": [
        "# Build the model\n",
        "model = tf.keras.models.Sequential([\n",
        "    tf.keras.layers.Dense(30, input_shape=[window_size], activation=\"relu\"), \n",
        "    tf.keras.layers.Dense(10, activation=\"relu\"),\n",
        "    tf.keras.layers.Dense(1)\n",
        "])\n",
        "\n",
        "# Print the model summary\n",
        "model.summary()"
      ]
    },
    {
      "cell_type": "markdown",
      "metadata": {
        "id": "uyT14hQOa97V"
      },
      "source": [
        "## Tune the Learning Rate\n",
        "\n",
        "You can pick a learning rate by running the same learning rate scheduler code from previous labs."
      ]
    },
    {
      "cell_type": "code",
      "execution_count": 10,
      "metadata": {
        "id": "GXiqsZQ1y4nD",
        "colab": {
          "base_uri": "https://localhost:8080/"
        },
        "outputId": "5c17d36d-54fa-4e9c-b7e1-ef4e8388ca61"
      },
      "outputs": [
        {
          "output_type": "stream",
          "name": "stdout",
          "text": [
            "Epoch 1/100\n",
            "93/93 [==============================] - 4s 24ms/step - loss: 77.4348 - lr: 1.0000e-08\n",
            "Epoch 2/100\n",
            "93/93 [==============================] - 3s 28ms/step - loss: 76.8135 - lr: 1.1220e-08\n",
            "Epoch 3/100\n",
            "93/93 [==============================] - 3s 21ms/step - loss: 76.1216 - lr: 1.2589e-08\n",
            "Epoch 4/100\n",
            "93/93 [==============================] - 2s 13ms/step - loss: 75.3624 - lr: 1.4125e-08\n",
            "Epoch 5/100\n",
            "93/93 [==============================] - 1s 12ms/step - loss: 74.5306 - lr: 1.5849e-08\n",
            "Epoch 6/100\n",
            "93/93 [==============================] - 1s 12ms/step - loss: 73.6262 - lr: 1.7783e-08\n",
            "Epoch 7/100\n",
            "93/93 [==============================] - 2s 14ms/step - loss: 72.6441 - lr: 1.9953e-08\n",
            "Epoch 8/100\n",
            "93/93 [==============================] - 2s 16ms/step - loss: 71.5734 - lr: 2.2387e-08\n",
            "Epoch 9/100\n",
            "93/93 [==============================] - 1s 10ms/step - loss: 70.4301 - lr: 2.5119e-08\n",
            "Epoch 10/100\n",
            "93/93 [==============================] - 1s 10ms/step - loss: 69.2206 - lr: 2.8184e-08\n",
            "Epoch 11/100\n",
            "93/93 [==============================] - 1s 11ms/step - loss: 67.9497 - lr: 3.1623e-08\n",
            "Epoch 12/100\n",
            "93/93 [==============================] - 1s 5ms/step - loss: 66.6230 - lr: 3.5481e-08\n",
            "Epoch 13/100\n",
            "93/93 [==============================] - 1s 5ms/step - loss: 65.2539 - lr: 3.9811e-08\n",
            "Epoch 14/100\n",
            "93/93 [==============================] - 1s 5ms/step - loss: 63.8260 - lr: 4.4668e-08\n",
            "Epoch 15/100\n",
            "93/93 [==============================] - 1s 5ms/step - loss: 62.3554 - lr: 5.0119e-08\n",
            "Epoch 16/100\n",
            "93/93 [==============================] - 1s 8ms/step - loss: 60.8910 - lr: 5.6234e-08\n",
            "Epoch 17/100\n",
            "93/93 [==============================] - 1s 10ms/step - loss: 59.4148 - lr: 6.3096e-08\n",
            "Epoch 18/100\n",
            "93/93 [==============================] - 1s 5ms/step - loss: 57.9125 - lr: 7.0795e-08\n",
            "Epoch 19/100\n",
            "93/93 [==============================] - 1s 5ms/step - loss: 56.3602 - lr: 7.9433e-08\n",
            "Epoch 20/100\n",
            "93/93 [==============================] - 1s 5ms/step - loss: 54.6841 - lr: 8.9125e-08\n",
            "Epoch 21/100\n",
            "93/93 [==============================] - 1s 5ms/step - loss: 52.9086 - lr: 1.0000e-07\n",
            "Epoch 22/100\n",
            "93/93 [==============================] - 1s 5ms/step - loss: 51.0314 - lr: 1.1220e-07\n",
            "Epoch 23/100\n",
            "93/93 [==============================] - 1s 5ms/step - loss: 48.9863 - lr: 1.2589e-07\n",
            "Epoch 24/100\n",
            "93/93 [==============================] - 1s 5ms/step - loss: 46.7396 - lr: 1.4125e-07\n",
            "Epoch 25/100\n",
            "93/93 [==============================] - 1s 5ms/step - loss: 44.3458 - lr: 1.5849e-07\n",
            "Epoch 26/100\n",
            "93/93 [==============================] - 1s 5ms/step - loss: 42.0928 - lr: 1.7783e-07\n",
            "Epoch 27/100\n",
            "93/93 [==============================] - 1s 5ms/step - loss: 40.0708 - lr: 1.9953e-07\n",
            "Epoch 28/100\n",
            "93/93 [==============================] - 1s 5ms/step - loss: 38.2444 - lr: 2.2387e-07\n",
            "Epoch 29/100\n",
            "93/93 [==============================] - 1s 5ms/step - loss: 36.4876 - lr: 2.5119e-07\n",
            "Epoch 30/100\n",
            "93/93 [==============================] - 1s 5ms/step - loss: 34.8043 - lr: 2.8184e-07\n",
            "Epoch 31/100\n",
            "93/93 [==============================] - 1s 5ms/step - loss: 33.2400 - lr: 3.1623e-07\n",
            "Epoch 32/100\n",
            "93/93 [==============================] - 1s 5ms/step - loss: 31.7659 - lr: 3.5481e-07\n",
            "Epoch 33/100\n",
            "93/93 [==============================] - 1s 5ms/step - loss: 30.4491 - lr: 3.9811e-07\n",
            "Epoch 34/100\n",
            "93/93 [==============================] - 1s 9ms/step - loss: 29.3081 - lr: 4.4668e-07\n",
            "Epoch 35/100\n",
            "93/93 [==============================] - 1s 9ms/step - loss: 28.2715 - lr: 5.0119e-07\n",
            "Epoch 36/100\n",
            "93/93 [==============================] - 1s 5ms/step - loss: 27.3265 - lr: 5.6234e-07\n",
            "Epoch 37/100\n",
            "93/93 [==============================] - 1s 5ms/step - loss: 26.4981 - lr: 6.3096e-07\n",
            "Epoch 38/100\n",
            "93/93 [==============================] - 1s 5ms/step - loss: 25.6586 - lr: 7.0795e-07\n",
            "Epoch 39/100\n",
            "93/93 [==============================] - 1s 5ms/step - loss: 24.7730 - lr: 7.9433e-07\n",
            "Epoch 40/100\n",
            "93/93 [==============================] - 1s 5ms/step - loss: 23.9129 - lr: 8.9125e-07\n",
            "Epoch 41/100\n",
            "93/93 [==============================] - 1s 5ms/step - loss: 23.1241 - lr: 1.0000e-06\n",
            "Epoch 42/100\n",
            "93/93 [==============================] - 1s 5ms/step - loss: 22.5395 - lr: 1.1220e-06\n",
            "Epoch 43/100\n",
            "93/93 [==============================] - 1s 5ms/step - loss: 22.0907 - lr: 1.2589e-06\n",
            "Epoch 44/100\n",
            "93/93 [==============================] - 1s 5ms/step - loss: 21.7590 - lr: 1.4125e-06\n",
            "Epoch 45/100\n",
            "93/93 [==============================] - 1s 5ms/step - loss: 21.4929 - lr: 1.5849e-06\n",
            "Epoch 46/100\n",
            "93/93 [==============================] - 1s 5ms/step - loss: 21.2686 - lr: 1.7783e-06\n",
            "Epoch 47/100\n",
            "93/93 [==============================] - 1s 5ms/step - loss: 21.0261 - lr: 1.9953e-06\n",
            "Epoch 48/100\n",
            "93/93 [==============================] - 1s 5ms/step - loss: 20.8056 - lr: 2.2387e-06\n",
            "Epoch 49/100\n",
            "93/93 [==============================] - 1s 5ms/step - loss: 20.6183 - lr: 2.5119e-06\n",
            "Epoch 50/100\n",
            "93/93 [==============================] - 1s 5ms/step - loss: 20.3754 - lr: 2.8184e-06\n",
            "Epoch 51/100\n",
            "93/93 [==============================] - 1s 8ms/step - loss: 20.1834 - lr: 3.1623e-06\n",
            "Epoch 52/100\n",
            "93/93 [==============================] - 1s 9ms/step - loss: 19.9636 - lr: 3.5481e-06\n",
            "Epoch 53/100\n",
            "93/93 [==============================] - 1s 6ms/step - loss: 19.8081 - lr: 3.9811e-06\n",
            "Epoch 54/100\n",
            "93/93 [==============================] - 1s 5ms/step - loss: 19.5945 - lr: 4.4668e-06\n",
            "Epoch 55/100\n",
            "93/93 [==============================] - 1s 5ms/step - loss: 19.4398 - lr: 5.0119e-06\n",
            "Epoch 56/100\n",
            "93/93 [==============================] - 1s 5ms/step - loss: 19.2905 - lr: 5.6234e-06\n",
            "Epoch 57/100\n",
            "93/93 [==============================] - 1s 5ms/step - loss: 19.0871 - lr: 6.3096e-06\n",
            "Epoch 58/100\n",
            "93/93 [==============================] - 1s 5ms/step - loss: 18.8432 - lr: 7.0795e-06\n",
            "Epoch 59/100\n",
            "93/93 [==============================] - 1s 5ms/step - loss: 18.6740 - lr: 7.9433e-06\n",
            "Epoch 60/100\n",
            "93/93 [==============================] - 1s 5ms/step - loss: 18.5440 - lr: 8.9125e-06\n",
            "Epoch 61/100\n",
            "93/93 [==============================] - 1s 5ms/step - loss: 18.3898 - lr: 1.0000e-05\n",
            "Epoch 62/100\n",
            "93/93 [==============================] - 1s 5ms/step - loss: 18.2423 - lr: 1.1220e-05\n",
            "Epoch 63/100\n",
            "93/93 [==============================] - 1s 5ms/step - loss: 18.1136 - lr: 1.2589e-05\n",
            "Epoch 64/100\n",
            "93/93 [==============================] - 1s 5ms/step - loss: 18.3365 - lr: 1.4125e-05\n",
            "Epoch 65/100\n",
            "93/93 [==============================] - 1s 5ms/step - loss: 18.0369 - lr: 1.5849e-05\n",
            "Epoch 66/100\n",
            "93/93 [==============================] - 1s 5ms/step - loss: 17.7555 - lr: 1.7783e-05\n",
            "Epoch 67/100\n",
            "93/93 [==============================] - 1s 5ms/step - loss: 17.7982 - lr: 1.9953e-05\n",
            "Epoch 68/100\n",
            "93/93 [==============================] - 1s 8ms/step - loss: 17.8098 - lr: 2.2387e-05\n",
            "Epoch 69/100\n",
            "93/93 [==============================] - 1s 9ms/step - loss: 17.5735 - lr: 2.5119e-05\n",
            "Epoch 70/100\n",
            "93/93 [==============================] - 1s 5ms/step - loss: 17.4459 - lr: 2.8184e-05\n",
            "Epoch 71/100\n",
            "93/93 [==============================] - 1s 4ms/step - loss: 17.8585 - lr: 3.1623e-05\n",
            "Epoch 72/100\n",
            "93/93 [==============================] - 1s 5ms/step - loss: 17.5411 - lr: 3.5481e-05\n",
            "Epoch 73/100\n",
            "93/93 [==============================] - 1s 5ms/step - loss: 17.6741 - lr: 3.9811e-05\n",
            "Epoch 74/100\n",
            "93/93 [==============================] - 1s 5ms/step - loss: 17.3816 - lr: 4.4668e-05\n",
            "Epoch 75/100\n",
            "93/93 [==============================] - 1s 5ms/step - loss: 17.9635 - lr: 5.0119e-05\n",
            "Epoch 76/100\n",
            "93/93 [==============================] - 1s 5ms/step - loss: 17.9439 - lr: 5.6234e-05\n",
            "Epoch 77/100\n",
            "93/93 [==============================] - 1s 5ms/step - loss: 17.6054 - lr: 6.3096e-05\n",
            "Epoch 78/100\n",
            "93/93 [==============================] - 1s 5ms/step - loss: 17.6991 - lr: 7.0795e-05\n",
            "Epoch 79/100\n",
            "93/93 [==============================] - 1s 5ms/step - loss: 17.3464 - lr: 7.9433e-05\n",
            "Epoch 80/100\n",
            "93/93 [==============================] - 1s 5ms/step - loss: 17.4719 - lr: 8.9125e-05\n",
            "Epoch 81/100\n",
            "93/93 [==============================] - 1s 5ms/step - loss: 17.5135 - lr: 1.0000e-04\n",
            "Epoch 82/100\n",
            "93/93 [==============================] - 1s 5ms/step - loss: 17.8731 - lr: 1.1220e-04\n",
            "Epoch 83/100\n",
            "93/93 [==============================] - 1s 5ms/step - loss: 19.0444 - lr: 1.2589e-04\n",
            "Epoch 84/100\n",
            "93/93 [==============================] - 1s 5ms/step - loss: 19.5531 - lr: 1.4125e-04\n",
            "Epoch 85/100\n",
            "93/93 [==============================] - 1s 6ms/step - loss: 17.7544 - lr: 1.5849e-04\n",
            "Epoch 86/100\n",
            "93/93 [==============================] - 1s 9ms/step - loss: 20.0336 - lr: 1.7783e-04\n",
            "Epoch 87/100\n",
            "93/93 [==============================] - 1s 5ms/step - loss: 20.3780 - lr: 1.9953e-04\n",
            "Epoch 88/100\n",
            "93/93 [==============================] - 1s 5ms/step - loss: 18.3245 - lr: 2.2387e-04\n",
            "Epoch 89/100\n",
            "93/93 [==============================] - 1s 5ms/step - loss: 21.4391 - lr: 2.5119e-04\n",
            "Epoch 90/100\n",
            "93/93 [==============================] - 1s 5ms/step - loss: 20.6848 - lr: 2.8184e-04\n",
            "Epoch 91/100\n",
            "93/93 [==============================] - 1s 5ms/step - loss: 19.8844 - lr: 3.1623e-04\n",
            "Epoch 92/100\n",
            "93/93 [==============================] - 1s 5ms/step - loss: 20.1580 - lr: 3.5481e-04\n",
            "Epoch 93/100\n",
            "93/93 [==============================] - 1s 5ms/step - loss: 20.1917 - lr: 3.9811e-04\n",
            "Epoch 94/100\n",
            "93/93 [==============================] - 1s 5ms/step - loss: 21.9855 - lr: 4.4668e-04\n",
            "Epoch 95/100\n",
            "93/93 [==============================] - 1s 5ms/step - loss: 21.9777 - lr: 5.0119e-04\n",
            "Epoch 96/100\n",
            "93/93 [==============================] - 1s 5ms/step - loss: 24.5054 - lr: 5.6234e-04\n",
            "Epoch 97/100\n",
            "93/93 [==============================] - 1s 5ms/step - loss: 22.5129 - lr: 6.3096e-04\n",
            "Epoch 98/100\n",
            "93/93 [==============================] - 1s 5ms/step - loss: 21.0016 - lr: 7.0795e-04\n",
            "Epoch 99/100\n",
            "93/93 [==============================] - 1s 5ms/step - loss: 24.2082 - lr: 7.9433e-04\n",
            "Epoch 100/100\n",
            "93/93 [==============================] - 1s 5ms/step - loss: 28.1393 - lr: 8.9125e-04\n"
          ]
        }
      ],
      "source": [
        "# Set the learning rate scheduler\n",
        "lr_schedule = tf.keras.callbacks.LearningRateScheduler(\n",
        "    lambda epoch: 1e-8 * 10**(epoch / 20))\n",
        "\n",
        "# Initialize the optimizer\n",
        "optimizer = tf.keras.optimizers.SGD(momentum=0.9)\n",
        "\n",
        "# Set the training parameters\n",
        "model.compile(loss=tf.keras.losses.Huber(), optimizer=optimizer)\n",
        "\n",
        "# Train the model\n",
        "history = model.fit(train_set, epochs=100, callbacks=[lr_schedule])"
      ]
    },
    {
      "cell_type": "code",
      "execution_count": 11,
      "metadata": {
        "id": "xJFAB1NTzGJV",
        "colab": {
          "base_uri": "https://localhost:8080/",
          "height": 405
        },
        "outputId": "e300323b-aa39-41a9-ee80-33962c4fadda"
      },
      "outputs": [
        {
          "output_type": "execute_result",
          "data": {
            "text/plain": [
              "(1e-08, 0.001, 0.0, 100.0)"
            ]
          },
          "metadata": {},
          "execution_count": 11
        },
        {
          "output_type": "display_data",
          "data": {
            "text/plain": [
              "<Figure size 720x432 with 1 Axes>"
            ],
            "image/png": "[encoded data removed]"
          },
          "metadata": {
            "needs_background": "light"
          }
        }
      ],
      "source": [
        "# Define the learning rate array\n",
        "lrs = 1e-8 * (10 ** (np.arange(100) / 20))\n",
        "\n",
        "# Set the figure size\n",
        "plt.figure(figsize=(10, 6))\n",
        "\n",
        "# Set the grid\n",
        "plt.grid(True)\n",
        "\n",
        "# Plot the loss in log scale\n",
        "plt.semilogx(lrs, history.history[\"loss\"])\n",
        "\n",
        "# Increase the tickmarks size\n",
        "plt.tick_params('both', length=10, width=1, which='both')\n",
        "\n",
        "# Set the plot boundaries\n",
        "plt.axis([1e-8, 1e-3, 0, 100])"
      ]
    },
    {
      "cell_type": "markdown",
      "metadata": {
        "id": "oY4mnUpNbFdc"
      },
      "source": [
        "## Train the Model\n",
        "\n",
        "Once you've picked a learning rate, you can rebuild the model and start training."
      ]
    },
    {
      "cell_type": "code",
      "execution_count": 12,
      "metadata": {
        "id": "Ngna3zR4znJd"
      },
      "outputs": [],
      "source": [
        "# Reset states generated by Keras\n",
        "tf.keras.backend.clear_session()\n",
        "\n",
        "# Build the Model\n",
        "model = tf.keras.models.Sequential([\n",
        "    tf.keras.layers.Dense(30, input_shape=[window_size], activation=\"relu\"), \n",
        "    tf.keras.layers.Dense(10, activation=\"relu\"),\n",
        "    tf.keras.layers.Dense(1)\n",
        "])"
      ]
    },
    {
      "cell_type": "code",
      "execution_count": 13,
      "metadata": {
        "id": "7FKXvEYxzuoc",
        "colab": {
          "base_uri": "https://localhost:8080/"
        },
        "outputId": "1b18ba72-4195-4a47-dbc0-b9be82df852a"
      },
      "outputs": [
        {
          "output_type": "stream",
          "name": "stdout",
          "text": [
            "Epoch 1/100\n",
            "93/93 [==============================] - 2s 9ms/step - loss: 31.9190 - mae: 32.4142\n",
            "Epoch 2/100\n",
            "93/93 [==============================] - 1s 5ms/step - loss: 21.1049 - mae: 21.5988\n",
            "Epoch 3/100\n",
            "93/93 [==============================] - 1s 5ms/step - loss: 19.7199 - mae: 20.2139\n",
            "Epoch 4/100\n",
            "93/93 [==============================] - 1s 5ms/step - loss: 18.7955 - mae: 19.2892\n",
            "Epoch 5/100\n",
            "93/93 [==============================] - 1s 5ms/step - loss: 18.5510 - mae: 19.0444\n",
            "Epoch 6/100\n",
            "93/93 [==============================] - 1s 5ms/step - loss: 18.1536 - mae: 18.6455\n",
            "Epoch 7/100\n",
            "93/93 [==============================] - 1s 5ms/step - loss: 17.7861 - mae: 18.2769\n",
            "Epoch 8/100\n",
            "93/93 [==============================] - 1s 5ms/step - loss: 17.9571 - mae: 18.4486\n",
            "Epoch 9/100\n",
            "93/93 [==============================] - 1s 5ms/step - loss: 17.6820 - mae: 18.1738\n",
            "Epoch 10/100\n",
            "93/93 [==============================] - 1s 5ms/step - loss: 17.6754 - mae: 18.1670\n",
            "Epoch 11/100\n",
            "93/93 [==============================] - 1s 5ms/step - loss: 17.8867 - mae: 18.3789\n",
            "Epoch 12/100\n",
            "93/93 [==============================] - 1s 5ms/step - loss: 17.8653 - mae: 18.3578\n",
            "Epoch 13/100\n",
            "93/93 [==============================] - 1s 5ms/step - loss: 17.5058 - mae: 17.9979\n",
            "Epoch 14/100\n",
            "93/93 [==============================] - 1s 5ms/step - loss: 17.2836 - mae: 17.7749\n",
            "Epoch 15/100\n",
            "93/93 [==============================] - 1s 7ms/step - loss: 17.4910 - mae: 17.9833\n",
            "Epoch 16/100\n",
            "93/93 [==============================] - 1s 9ms/step - loss: 17.2945 - mae: 17.7857\n",
            "Epoch 17/100\n",
            "93/93 [==============================] - 1s 9ms/step - loss: 17.0970 - mae: 17.5891\n",
            "Epoch 18/100\n",
            "93/93 [==============================] - 1s 5ms/step - loss: 17.1683 - mae: 17.6570\n",
            "Epoch 19/100\n",
            "93/93 [==============================] - 1s 5ms/step - loss: 17.1277 - mae: 17.6192\n",
            "Epoch 20/100\n",
            "93/93 [==============================] - 1s 5ms/step - loss: 17.2790 - mae: 17.7706\n",
            "Epoch 21/100\n",
            "93/93 [==============================] - 1s 5ms/step - loss: 17.3814 - mae: 17.8742\n",
            "Epoch 22/100\n",
            "93/93 [==============================] - 1s 5ms/step - loss: 17.2291 - mae: 17.7191\n",
            "Epoch 23/100\n",
            "93/93 [==============================] - 1s 5ms/step - loss: 16.9494 - mae: 17.4397\n",
            "Epoch 24/100\n",
            "93/93 [==============================] - 1s 5ms/step - loss: 16.9790 - mae: 17.4694\n",
            "Epoch 25/100\n",
            "93/93 [==============================] - 1s 5ms/step - loss: 17.1555 - mae: 17.6453\n",
            "Epoch 26/100\n",
            "93/93 [==============================] - 1s 5ms/step - loss: 16.8724 - mae: 17.3631\n",
            "Epoch 27/100\n",
            "93/93 [==============================] - 1s 5ms/step - loss: 17.0132 - mae: 17.5035\n",
            "Epoch 28/100\n",
            "93/93 [==============================] - 1s 5ms/step - loss: 17.0721 - mae: 17.5627\n",
            "Epoch 29/100\n",
            "93/93 [==============================] - 1s 5ms/step - loss: 16.9982 - mae: 17.4892\n",
            "Epoch 30/100\n",
            "93/93 [==============================] - 1s 9ms/step - loss: 17.0496 - mae: 17.5401\n",
            "Epoch 31/100\n",
            "93/93 [==============================] - 1s 12ms/step - loss: 16.9497 - mae: 17.4399\n",
            "Epoch 32/100\n",
            "93/93 [==============================] - 2s 10ms/step - loss: 17.0516 - mae: 17.5426\n",
            "Epoch 33/100\n",
            "93/93 [==============================] - 1s 5ms/step - loss: 17.0757 - mae: 17.5681\n",
            "Epoch 34/100\n",
            "93/93 [==============================] - 1s 5ms/step - loss: 16.8666 - mae: 17.3554\n",
            "Epoch 35/100\n",
            "93/93 [==============================] - 1s 5ms/step - loss: 16.8675 - mae: 17.3583\n",
            "Epoch 36/100\n",
            "93/93 [==============================] - 1s 5ms/step - loss: 17.2135 - mae: 17.7054\n",
            "Epoch 37/100\n",
            "93/93 [==============================] - 1s 5ms/step - loss: 16.7784 - mae: 17.2681\n",
            "Epoch 38/100\n",
            "93/93 [==============================] - 1s 5ms/step - loss: 17.0165 - mae: 17.5086\n",
            "Epoch 39/100\n",
            "93/93 [==============================] - 1s 5ms/step - loss: 16.7995 - mae: 17.2895\n",
            "Epoch 40/100\n",
            "93/93 [==============================] - 1s 5ms/step - loss: 16.8893 - mae: 17.3794\n",
            "Epoch 41/100\n",
            "93/93 [==============================] - 1s 5ms/step - loss: 16.8670 - mae: 17.3583\n",
            "Epoch 42/100\n",
            "93/93 [==============================] - 1s 5ms/step - loss: 16.9738 - mae: 17.4652\n",
            "Epoch 43/100\n",
            "93/93 [==============================] - 1s 9ms/step - loss: 17.2534 - mae: 17.7441\n",
            "Epoch 44/100\n",
            "93/93 [==============================] - 1s 9ms/step - loss: 17.0938 - mae: 17.5832\n",
            "Epoch 45/100\n",
            "93/93 [==============================] - 1s 5ms/step - loss: 16.8570 - mae: 17.3467\n",
            "Epoch 46/100\n",
            "93/93 [==============================] - 1s 5ms/step - loss: 16.8531 - mae: 17.3428\n",
            "Epoch 47/100\n",
            "93/93 [==============================] - 1s 5ms/step - loss: 16.6803 - mae: 17.1722\n",
            "Epoch 48/100\n",
            "93/93 [==============================] - 1s 5ms/step - loss: 16.7882 - mae: 17.2776\n",
            "Epoch 49/100\n",
            "93/93 [==============================] - 1s 5ms/step - loss: 16.8240 - mae: 17.3142\n",
            "Epoch 50/100\n",
            "93/93 [==============================] - 1s 5ms/step - loss: 16.8411 - mae: 17.3309\n",
            "Epoch 51/100\n",
            "93/93 [==============================] - 1s 5ms/step - loss: 16.7461 - mae: 17.2370\n",
            "Epoch 52/100\n",
            "93/93 [==============================] - 1s 5ms/step - loss: 17.1129 - mae: 17.6031\n",
            "Epoch 53/100\n",
            "93/93 [==============================] - 1s 5ms/step - loss: 16.9012 - mae: 17.3932\n",
            "Epoch 54/100\n",
            "93/93 [==============================] - 1s 5ms/step - loss: 16.9640 - mae: 17.4541\n",
            "Epoch 55/100\n",
            "93/93 [==============================] - 1s 5ms/step - loss: 16.8745 - mae: 17.3673\n",
            "Epoch 56/100\n",
            "93/93 [==============================] - 1s 5ms/step - loss: 17.1825 - mae: 17.6744\n",
            "Epoch 57/100\n",
            "93/93 [==============================] - 1s 5ms/step - loss: 16.8397 - mae: 17.3304\n",
            "Epoch 58/100\n",
            "93/93 [==============================] - 1s 5ms/step - loss: 16.8902 - mae: 17.3814\n",
            "Epoch 59/100\n",
            "93/93 [==============================] - 1s 5ms/step - loss: 16.9137 - mae: 17.4043\n",
            "Epoch 60/100\n",
            "93/93 [==============================] - 1s 5ms/step - loss: 16.7417 - mae: 17.2332\n",
            "Epoch 61/100\n",
            "93/93 [==============================] - 1s 9ms/step - loss: 16.8808 - mae: 17.3718\n",
            "Epoch 62/100\n",
            "93/93 [==============================] - 1s 9ms/step - loss: 16.6888 - mae: 17.1799\n",
            "Epoch 63/100\n",
            "93/93 [==============================] - 1s 5ms/step - loss: 16.6941 - mae: 17.1842\n",
            "Epoch 64/100\n",
            "93/93 [==============================] - 1s 5ms/step - loss: 16.6641 - mae: 17.1534\n",
            "Epoch 65/100\n",
            "93/93 [==============================] - 1s 5ms/step - loss: 16.8233 - mae: 17.3128\n",
            "Epoch 66/100\n",
            "93/93 [==============================] - 1s 5ms/step - loss: 16.7244 - mae: 17.2140\n",
            "Epoch 67/100\n",
            "93/93 [==============================] - 1s 5ms/step - loss: 16.6694 - mae: 17.1609\n",
            "Epoch 68/100\n",
            "93/93 [==============================] - 1s 5ms/step - loss: 16.6469 - mae: 17.1361\n",
            "Epoch 69/100\n",
            "93/93 [==============================] - 1s 5ms/step - loss: 16.6761 - mae: 17.1653\n",
            "Epoch 70/100\n",
            "93/93 [==============================] - 1s 5ms/step - loss: 16.7197 - mae: 17.2096\n",
            "Epoch 71/100\n",
            "93/93 [==============================] - 1s 5ms/step - loss: 16.8421 - mae: 17.3333\n",
            "Epoch 72/100\n",
            "93/93 [==============================] - 1s 5ms/step - loss: 16.6328 - mae: 17.1233\n",
            "Epoch 73/100\n",
            "93/93 [==============================] - 1s 5ms/step - loss: 16.6468 - mae: 17.1388\n",
            "Epoch 74/100\n",
            "93/93 [==============================] - 1s 5ms/step - loss: 16.6466 - mae: 17.1374\n",
            "Epoch 75/100\n",
            "93/93 [==============================] - 1s 5ms/step - loss: 16.5822 - mae: 17.0713\n",
            "Epoch 76/100\n",
            "93/93 [==============================] - 1s 5ms/step - loss: 16.5955 - mae: 17.0868\n",
            "Epoch 77/100\n",
            "93/93 [==============================] - 1s 5ms/step - loss: 16.5517 - mae: 17.0415\n",
            "Epoch 78/100\n",
            "93/93 [==============================] - 1s 5ms/step - loss: 16.6859 - mae: 17.1762\n",
            "Epoch 79/100\n",
            "93/93 [==============================] - 1s 8ms/step - loss: 17.0163 - mae: 17.5061\n",
            "Epoch 80/100\n",
            "93/93 [==============================] - 1s 10ms/step - loss: 16.6239 - mae: 17.1144\n",
            "Epoch 81/100\n",
            "93/93 [==============================] - 1s 8ms/step - loss: 16.5831 - mae: 17.0737\n",
            "Epoch 82/100\n",
            "93/93 [==============================] - 1s 5ms/step - loss: 16.7704 - mae: 17.2599\n",
            "Epoch 83/100\n",
            "93/93 [==============================] - 1s 5ms/step - loss: 16.8376 - mae: 17.3288\n",
            "Epoch 84/100\n",
            "93/93 [==============================] - 1s 5ms/step - loss: 16.6782 - mae: 17.1670\n",
            "Epoch 85/100\n",
            "93/93 [==============================] - 1s 5ms/step - loss: 16.8766 - mae: 17.3673\n",
            "Epoch 86/100\n",
            "93/93 [==============================] - 1s 5ms/step - loss: 16.5909 - mae: 17.0828\n",
            "Epoch 87/100\n",
            "93/93 [==============================] - 1s 5ms/step - loss: 16.5518 - mae: 17.0430\n",
            "Epoch 88/100\n",
            "93/93 [==============================] - 1s 5ms/step - loss: 16.8058 - mae: 17.2962\n",
            "Epoch 89/100\n",
            "93/93 [==============================] - 1s 5ms/step - loss: 16.7960 - mae: 17.2854\n",
            "Epoch 90/100\n",
            "93/93 [==============================] - 1s 5ms/step - loss: 16.5874 - mae: 17.0778\n",
            "Epoch 91/100\n",
            "93/93 [==============================] - 1s 5ms/step - loss: 16.5683 - mae: 17.0576\n",
            "Epoch 92/100\n",
            "93/93 [==============================] - 1s 5ms/step - loss: 16.7037 - mae: 17.1958\n",
            "Epoch 93/100\n",
            "93/93 [==============================] - 1s 5ms/step - loss: 16.5387 - mae: 17.0269\n",
            "Epoch 94/100\n",
            "93/93 [==============================] - 1s 5ms/step - loss: 16.5389 - mae: 17.0292\n",
            "Epoch 95/100\n",
            "93/93 [==============================] - 1s 9ms/step - loss: 16.6280 - mae: 17.1185\n",
            "Epoch 96/100\n",
            "93/93 [==============================] - 1s 9ms/step - loss: 16.6466 - mae: 17.1357\n",
            "Epoch 97/100\n",
            "93/93 [==============================] - 1s 5ms/step - loss: 16.7731 - mae: 17.2648\n",
            "Epoch 98/100\n",
            "93/93 [==============================] - 1s 5ms/step - loss: 16.7083 - mae: 17.2001\n",
            "Epoch 99/100\n",
            "93/93 [==============================] - 1s 5ms/step - loss: 16.7670 - mae: 17.2562\n",
            "Epoch 100/100\n",
            "93/93 [==============================] - 1s 5ms/step - loss: 16.5563 - mae: 17.0463\n"
          ]
        }
      ],
      "source": [
        "# Set the learning rate\n",
        "learning_rate = 2e-5\n",
        "\n",
        "# Set the optimizer \n",
        "optimizer = tf.keras.optimizers.SGD(learning_rate=learning_rate, momentum=0.9)\n",
        "\n",
        "# Set the training parameters\n",
        "model.compile(loss=tf.keras.losses.Huber(),\n",
        "              optimizer=optimizer,\n",
        "              metrics=[\"mae\"])\n",
        "\n",
        "# Train the model\n",
        "history = model.fit(train_set,epochs=100)"
      ]
    },
    {
      "cell_type": "markdown",
      "metadata": {
        "id": "b1iV2t8ibIka"
      },
      "source": [
        "## Model Prediction\n",
        "\n",
        "Now see if the model generates good results. If you used the default parameters of this notebook, you should see the predictions follow the shape of the ground truth with an MAE of around 15. "
      ]
    },
    {
      "cell_type": "code",
      "execution_count": 14,
      "metadata": {
        "id": "djn06Tri2B6_"
      },
      "outputs": [],
      "source": [
        "def model_forecast(model, series, window_size, batch_size):\n",
        "    \"\"\"Uses an input model to generate predictions on data windows\n",
        "\n",
        "    Args:\n",
        "      model (TF Keras Model) - model that accepts data windows\n",
        "      series (array of float) - contains the values of the time series\n",
        "      window_size (int) - the number of time steps to include in the window\n",
        "      batch_size (int) - the batch size\n",
        "\n",
        "    Returns:\n",
        "      forecast (numpy array) - array containing predictions\n",
        "    \"\"\"\n",
        "\n",
        "    # Generate a TF Dataset from the series values\n",
        "    dataset = tf.data.Dataset.from_tensor_slices(series)\n",
        "\n",
        "    # Window the data but only take those with the specified size\n",
        "    dataset = dataset.window(window_size, shift=1, drop_remainder=True)\n",
        "\n",
        "    # Flatten the windows by putting its elements in a single batch\n",
        "    dataset = dataset.flat_map(lambda w: w.batch(window_size))\n",
        "    \n",
        "    # Create batches of windows\n",
        "    dataset = dataset.batch(batch_size).prefetch(1)\n",
        "    \n",
        "    # Get predictions on the entire dataset\n",
        "    forecast = model.predict(dataset)\n",
        "    \n",
        "    return forecast"
      ]
    },
    {
      "cell_type": "code",
      "execution_count": 15,
      "metadata": {
        "id": "GaC6NNMRp0lb",
        "colab": {
          "base_uri": "https://localhost:8080/",
          "height": 391
        },
        "outputId": "86d479fa-7f0c-434c-e654-e16ba29ee500"
      },
      "outputs": [
        {
          "output_type": "stream",
          "name": "stdout",
          "text": [
            "8/8 [==============================] - 0s 8ms/step\n"
          ]
        },
        {
          "output_type": "display_data",
          "data": {
            "text/plain": [
              "<Figure size 720x432 with 1 Axes>"
            ],
            "image/png": "[encoded data removed]"
          },
          "metadata": {
            "needs_background": "light"
          }
        }
      ],
      "source": [
        "# Reduce the original series\n",
        "forecast_series = series[split_time-window_size:-1]\n",
        "\n",
        "# Use helper function to generate predictions\n",
        "forecast = model_forecast(model, forecast_series, window_size, batch_size)\n",
        "\n",
        "# Drop single dimensional axis\n",
        "results = forecast.squeeze()\n",
        "\n",
        "# Plot the results\n",
        "plot_series(time_valid, (x_valid, results))"
      ]
    },
    {
      "cell_type": "code",
      "execution_count": 16,
      "metadata": {
        "id": "13XrorC5wQoE",
        "colab": {
          "base_uri": "https://localhost:8080/"
        },
        "outputId": "8e4e3635-23a9-439e-f20e-2cd18b2f5df4"
      },
      "outputs": [
        {
          "output_type": "stream",
          "name": "stdout",
          "text": [
            "14.698549\n"
          ]
        }
      ],
      "source": [
        "# Compute the MAE\n",
        "print(tf.keras.metrics.mean_absolute_error(x_valid, results).numpy())"
      ]
    },
    {
      "cell_type": "markdown",
      "metadata": {
        "id": "YqMGN9S5veN2"
      },
      "source": [
        "## Wrap Up\n",
        "\n",
        "In this lab, you built a relatively simple DNN to forecast sunspot numbers for a given month. We encourage you to tweak the parameters or train longer and see the best results you can get. In the next lab, you will build a more complex model and you evaluate if the added complexity translates to better or worse results."
      ]
    }
  ],
  "metadata": {
    "colab": {
      "provenance": [],
      "include_colab_link": true
    },
    "kernelspec": {
      "display_name": "Python 3",
      "language": "python",
      "name": "python3"
    },
    "language_info": {
      "codemirror_mode": {
        "name": "ipython",
        "version": 3
      },
      "file_extension": ".py",
      "mimetype": "text/x-python",
      "name": "python",
      "nbconvert_exporter": "python",
      "pygments_lexer": "ipython3",
      "version": "3.7.4"
    },
    "gpuClass": "standard"
  },
  "nbformat": 4,
  "nbformat_minor": 0
}