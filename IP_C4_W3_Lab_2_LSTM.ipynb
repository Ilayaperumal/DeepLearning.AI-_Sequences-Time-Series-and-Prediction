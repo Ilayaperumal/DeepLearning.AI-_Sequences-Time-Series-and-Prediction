{
  "cells": [
    {
      "cell_type": "markdown",
      "metadata": {
        "id": "view-in-github",
        "colab_type": "text"
      },
      "source": [
        "<a href=\"https://colab.research.google.com/github/Ilayaperumal/DeepLearning.AI-_Sequences-Time-Series-and-Prediction/blob/main/IP_C4_W3_Lab_2_LSTM.ipynb\" target=\"_parent\"><img src=\"https://colab.research.google.com/assets/colab-badge.svg\" alt=\"Open In Colab\"/></a>"
      ]
    },
    {
      "cell_type": "markdown",
      "metadata": {
        "id": "X-BxBG_qMe3d"
      },
      "source": [
        "<a href=\"https://colab.research.google.com/github/https-deeplearning-ai/tensorflow-1-public/blob/main/C4/W3/ungraded_labs/C4_W3_Lab_2_LSTM.ipynb\" target=\"_parent\"><img src=\"https://colab.research.google.com/assets/colab-badge.svg\" alt=\"Open In Colab\"/></a>"
      ]
    },
    {
      "cell_type": "markdown",
      "metadata": {
        "id": "sV_nvXSQGJPK"
      },
      "source": [
        "# Ungraded Lab: Using a multi-layer LSTM for forecasting\n",
        "\n",
        "In this lab, you will use the same RNN architecure in the first lab but will instead stack [LSTM](https://www.tensorflow.org/api_docs/python/tf/keras/layers/LSTM) layers instead of `SimpleRNN`."
      ]
    },
    {
      "cell_type": "markdown",
      "metadata": {
        "id": "3IMbAWETGOWD"
      },
      "source": [
        "## Imports"
      ]
    },
    {
      "cell_type": "code",
      "execution_count": 1,
      "metadata": {
        "id": "BOjujz601HcS"
      },
      "outputs": [],
      "source": [
        "import tensorflow as tf\n",
        "import numpy as np\n",
        "import matplotlib.pyplot as plt"
      ]
    },
    {
      "cell_type": "markdown",
      "metadata": {
        "id": "kD7RQQ0xGQVH"
      },
      "source": [
        "## Utilities"
      ]
    },
    {
      "cell_type": "code",
      "execution_count": 2,
      "metadata": {
        "id": "Zswl7jRtGzkk"
      },
      "outputs": [],
      "source": [
        "def plot_series(time, series, format=\"-\", start=0, end=None):\n",
        "    \"\"\"\n",
        "    Visualizes time series data\n",
        "\n",
        "    Args:\n",
        "      time (array of int) - contains the time steps\n",
        "      series (array of int) - contains the measurements for each time step\n",
        "      format - line style when plotting the graph\n",
        "      start - first time step to plot\n",
        "      end - last time step to plot\n",
        "    \"\"\"\n",
        "\n",
        "    # Setup dimensions of the graph figure\n",
        "    plt.figure(figsize=(10, 6))\n",
        "    \n",
        "    if type(series) is tuple:\n",
        "\n",
        "      for series_num in series:\n",
        "        # Plot the time series data\n",
        "        plt.plot(time[start:end], series_num[start:end], format)\n",
        "\n",
        "    else:\n",
        "      # Plot the time series data\n",
        "      plt.plot(time[start:end], series[start:end], format)\n",
        "\n",
        "    # Label the x-axis\n",
        "    plt.xlabel(\"Time\")\n",
        "\n",
        "    # Label the y-axis\n",
        "    plt.ylabel(\"Value\")\n",
        "\n",
        "    # Overlay a grid on the graph\n",
        "    plt.grid(True)\n",
        "\n",
        "    # Draw the graph on screen\n",
        "    plt.show()\n",
        "\n",
        "def trend(time, slope=0):\n",
        "    \"\"\"\n",
        "    Generates synthetic data that follows a straight line given a slope value.\n",
        "\n",
        "    Args:\n",
        "      time (array of int) - contains the time steps\n",
        "      slope (float) - determines the direction and steepness of the line\n",
        "\n",
        "    Returns:\n",
        "      series (array of float) - measurements that follow a straight line\n",
        "    \"\"\"\n",
        "\n",
        "    # Compute the linear series given the slope\n",
        "    series = slope * time\n",
        "\n",
        "    return series\n",
        "\n",
        "def seasonal_pattern(season_time):\n",
        "    \"\"\"\n",
        "    Just an arbitrary pattern, you can change it if you wish\n",
        "    \n",
        "    Args:\n",
        "      season_time (array of float) - contains the measurements per time step\n",
        "\n",
        "    Returns:\n",
        "      data_pattern (array of float) -  contains revised measurement values according \n",
        "                                  to the defined pattern\n",
        "    \"\"\"\n",
        "\n",
        "    # Generate the values using an arbitrary pattern\n",
        "    data_pattern = np.where(season_time < 0.4,\n",
        "                    np.cos(season_time * 2 * np.pi),\n",
        "                    1 / np.exp(3 * season_time))\n",
        "    \n",
        "    return data_pattern\n",
        "\n",
        "def seasonality(time, period, amplitude=1, phase=0):\n",
        "    \"\"\"\n",
        "    Repeats the same pattern at each period\n",
        "\n",
        "    Args:\n",
        "      time (array of int) - contains the time steps\n",
        "      period (int) - number of time steps before the pattern repeats\n",
        "      amplitude (int) - peak measured value in a period\n",
        "      phase (int) - number of time steps to shift the measured values\n",
        "\n",
        "    Returns:\n",
        "      data_pattern (array of float) - seasonal data scaled by the defined amplitude\n",
        "    \"\"\"\n",
        "    \n",
        "    # Define the measured values per period\n",
        "    season_time = ((time + phase) % period) / period\n",
        "\n",
        "    # Generates the seasonal data scaled by the defined amplitude\n",
        "    data_pattern = amplitude * seasonal_pattern(season_time)\n",
        "\n",
        "    return data_pattern\n",
        "\n",
        "def noise(time, noise_level=1, seed=None):\n",
        "    \"\"\"Generates a normally distributed noisy signal\n",
        "\n",
        "    Args:\n",
        "      time (array of int) - contains the time steps\n",
        "      noise_level (float) - scaling factor for the generated signal\n",
        "      seed (int) - number generator seed for repeatability\n",
        "\n",
        "    Returns:\n",
        "      noise (array of float) - the noisy signal\n",
        "    \"\"\"\n",
        "\n",
        "    # Initialize the random number generator\n",
        "    rnd = np.random.RandomState(seed)\n",
        "\n",
        "    # Generate a random number for each time step and scale by the noise level\n",
        "    noise = rnd.randn(len(time)) * noise_level\n",
        "    \n",
        "    return noise"
      ]
    },
    {
      "cell_type": "markdown",
      "metadata": {
        "id": "yxNyeFWjGSdj"
      },
      "source": [
        "## Generate the Synthetic Data"
      ]
    },
    {
      "cell_type": "code",
      "execution_count": 3,
      "metadata": {
        "id": "KYEUfDbdpHPm",
        "colab": {
          "base_uri": "https://localhost:8080/",
          "height": 388
        },
        "outputId": "7d859bb3-520e-4e60-d876-e490ce77cbe0"
      },
      "outputs": [
        {
          "output_type": "display_data",
          "data": {
            "text/plain": [
              "<Figure size 720x432 with 1 Axes>"
            ],
            "image/png": "[encoded data removed]"
          },
          "metadata": {
            "needs_background": "light"
          }
        }
      ],
      "source": [
        "# Parameters\n",
        "time = np.arange(4 * 365 + 1, dtype=\"float32\")\n",
        "baseline = 10\n",
        "amplitude = 40\n",
        "slope = 0.05\n",
        "noise_level = 5\n",
        "\n",
        "# Create the series\n",
        "series = baseline + trend(time, slope) + seasonality(time, period=365, amplitude=amplitude)\n",
        "\n",
        "# Update with noise\n",
        "series += noise(time, noise_level, seed=42)\n",
        "\n",
        "# Plot the results\n",
        "plot_series(time, series)"
      ]
    },
    {
      "cell_type": "markdown",
      "metadata": {
        "id": "MYKCvv-eGWRc"
      },
      "source": [
        "## Split the Dataset"
      ]
    },
    {
      "cell_type": "code",
      "execution_count": 4,
      "metadata": {
        "id": "hpp0slenpKVD"
      },
      "outputs": [],
      "source": [
        "# Define the split time\n",
        "split_time = 1000\n",
        "\n",
        "# Get the train set \n",
        "time_train = time[:split_time]\n",
        "x_train = series[:split_time]\n",
        "\n",
        "# Get the validation set\n",
        "time_valid = time[split_time:]\n",
        "x_valid = series[split_time:]"
      ]
    },
    {
      "cell_type": "markdown",
      "metadata": {
        "id": "cktHz9aOGYtV"
      },
      "source": [
        "## Prepare Features and Labels"
      ]
    },
    {
      "cell_type": "code",
      "execution_count": 5,
      "metadata": {
        "id": "G_j_2_Mqwn7-"
      },
      "outputs": [],
      "source": [
        "# Parameters\n",
        "window_size = 20\n",
        "batch_size = 32\n",
        "shuffle_buffer_size = 1000"
      ]
    },
    {
      "cell_type": "code",
      "execution_count": 6,
      "metadata": {
        "id": "4sTTIOCbyShY"
      },
      "outputs": [],
      "source": [
        "def windowed_dataset(series, window_size, batch_size, shuffle_buffer):\n",
        "    \"\"\"Generates dataset windows\n",
        "\n",
        "    Args:\n",
        "      series (array of float) - contains the values of the time series\n",
        "      window_size (int) - the number of time steps to include in the feature\n",
        "      batch_size (int) - the batch size\n",
        "      shuffle_buffer(int) - buffer size to use for the shuffle method\n",
        "\n",
        "    Returns:\n",
        "      dataset (TF Dataset) - TF Dataset containing time windows\n",
        "    \"\"\"\n",
        "  \n",
        "    # Generate a TF Dataset from the series values\n",
        "    dataset = tf.data.Dataset.from_tensor_slices(series)\n",
        "    \n",
        "    # Window the data but only take those with the specified size\n",
        "    dataset = dataset.window(window_size + 1, shift=1, drop_remainder=True)\n",
        "    \n",
        "    # Flatten the windows by putting its elements in a single batch\n",
        "    dataset = dataset.flat_map(lambda window: window.batch(window_size + 1))\n",
        "\n",
        "    # Create tuples with features and labels \n",
        "    dataset = dataset.map(lambda window: (window[:-1], window[-1]))\n",
        "\n",
        "    # Shuffle the windows\n",
        "    dataset = dataset.shuffle(shuffle_buffer)\n",
        "    \n",
        "    # Create batches of windows\n",
        "    dataset = dataset.batch(batch_size).prefetch(1)\n",
        "    \n",
        "    return dataset"
      ]
    },
    {
      "cell_type": "code",
      "execution_count": 7,
      "metadata": {
        "id": "vGj5-InSwtQQ",
        "colab": {
          "base_uri": "https://localhost:8080/"
        },
        "outputId": "e66e643f-65a4-40fc-ca29-38897970158f"
      },
      "outputs": [
        {
          "output_type": "stream",
          "name": "stderr",
          "text": [
            "WARNING:tensorflow:From /usr/local/lib/python3.8/dist-packages/tensorflow/python/autograph/pyct/static_analysis/liveness.py:83: Analyzer.lamba_check (from tensorflow.python.autograph.pyct.static_analysis.liveness) is deprecated and will be removed after 2023-09-23.\n",
            "Instructions for updating:\n",
            "Lambda fuctions will be no more assumed to be used in the statement where they are used, or at least in the same block. https://github.com/tensorflow/tensorflow/issues/56089\n"
          ]
        }
      ],
      "source": [
        "# Generate the dataset windows\n",
        "dataset = windowed_dataset(x_train, window_size, batch_size, shuffle_buffer_size)"
      ]
    },
    {
      "cell_type": "markdown",
      "metadata": {
        "id": "p9-Ke8ZaGcjd"
      },
      "source": [
        "## Build the Model\n",
        "\n",
        "As mentioned, you will swap `SimpleRNN` for `LSTM` in this lab. It is also set as bidirectional below but feel free to revise later and see what results you get. LSTMs are much more complex in their internal architecture than simpleRNNs. It implements a cell state that allows it to remember sequences better than simple implementations. This added complexity results in a bigger set of parameters to train and you'll see that when you print the model summary below."
      ]
    },
    {
      "cell_type": "code",
      "execution_count": 8,
      "metadata": {
        "id": "A1Hl39rklkLm",
        "colab": {
          "base_uri": "https://localhost:8080/"
        },
        "outputId": "909de144-59b3-4569-f70c-354637876d41"
      },
      "outputs": [
        {
          "output_type": "stream",
          "name": "stdout",
          "text": [
            "Model: \"sequential\"\n",
            "_________________________________________________________________\n",
            " Layer (type)                Output Shape              Param #   \n",
            "=================================================================\n",
            " lambda (Lambda)             (None, 20, 1)             0         \n",
            "                                                                 \n",
            " bidirectional (Bidirectiona  (None, 20, 64)           8704      \n",
            " l)                                                              \n",
            "                                                                 \n",
            " bidirectional_1 (Bidirectio  (None, 64)               24832     \n",
            " nal)                                                            \n",
            "                                                                 \n",
            " dense (Dense)               (None, 1)                 65        \n",
            "                                                                 \n",
            " lambda_1 (Lambda)           (None, 1)                 0         \n",
            "                                                                 \n",
            "=================================================================\n",
            "Total params: 33,601\n",
            "Trainable params: 33,601\n",
            "Non-trainable params: 0\n",
            "_________________________________________________________________\n"
          ]
        }
      ],
      "source": [
        "# Build the Model\n",
        "model_tune = tf.keras.models.Sequential([\n",
        "  tf.keras.layers.Lambda(lambda x: tf.expand_dims(x, axis=-1),\n",
        "                      input_shape=[window_size]),\n",
        "    tf.keras.layers.Bidirectional(tf.keras.layers.LSTM(32, return_sequences=True)),\n",
        "  tf.keras.layers.Bidirectional(tf.keras.layers.LSTM(32)),\n",
        "  tf.keras.layers.Dense(1),\n",
        "  tf.keras.layers.Lambda(lambda x: x * 100.0)\n",
        "])\n",
        "\n",
        "# Print the model summary\n",
        "model_tune.summary()"
      ]
    },
    {
      "cell_type": "markdown",
      "metadata": {
        "id": "FHaFblbwq0GV"
      },
      "source": [
        "## Tune the Learning Rate\n",
        "\n",
        "As usual, you will pick a learning rate by running the tuning code below."
      ]
    },
    {
      "cell_type": "code",
      "execution_count": 9,
      "metadata": {
        "id": "qE7al18qw48G",
        "colab": {
          "base_uri": "https://localhost:8080/"
        },
        "outputId": "39dd22ab-e4d7-4ad9-84a1-625a0f583597"
      },
      "outputs": [
        {
          "output_type": "stream",
          "name": "stdout",
          "text": [
            "Epoch 1/100\n",
            "31/31 [==============================] - 20s 40ms/step - loss: 21.5957 - lr: 1.0000e-08\n",
            "Epoch 2/100\n",
            "31/31 [==============================] - 0s 10ms/step - loss: 20.8596 - lr: 1.1220e-08\n",
            "Epoch 3/100\n",
            "31/31 [==============================] - 0s 9ms/step - loss: 20.1309 - lr: 1.2589e-08\n",
            "Epoch 4/100\n",
            "31/31 [==============================] - 0s 10ms/step - loss: 19.4402 - lr: 1.4125e-08\n",
            "Epoch 5/100\n",
            "31/31 [==============================] - 0s 10ms/step - loss: 18.7807 - lr: 1.5849e-08\n",
            "Epoch 6/100\n",
            "31/31 [==============================] - 0s 10ms/step - loss: 18.1324 - lr: 1.7783e-08\n",
            "Epoch 7/100\n",
            "31/31 [==============================] - 0s 10ms/step - loss: 17.4209 - lr: 1.9953e-08\n",
            "Epoch 8/100\n",
            "31/31 [==============================] - 0s 10ms/step - loss: 16.6878 - lr: 2.2387e-08\n",
            "Epoch 9/100\n",
            "31/31 [==============================] - 0s 10ms/step - loss: 16.0741 - lr: 2.5119e-08\n",
            "Epoch 10/100\n",
            "31/31 [==============================] - 0s 10ms/step - loss: 15.6406 - lr: 2.8184e-08\n",
            "Epoch 11/100\n",
            "31/31 [==============================] - 0s 10ms/step - loss: 15.3752 - lr: 3.1623e-08\n",
            "Epoch 12/100\n",
            "31/31 [==============================] - 0s 10ms/step - loss: 15.1706 - lr: 3.5481e-08\n",
            "Epoch 13/100\n",
            "31/31 [==============================] - 0s 10ms/step - loss: 14.9850 - lr: 3.9811e-08\n",
            "Epoch 14/100\n",
            "31/31 [==============================] - 0s 10ms/step - loss: 14.8098 - lr: 4.4668e-08\n",
            "Epoch 15/100\n",
            "31/31 [==============================] - 1s 14ms/step - loss: 14.6320 - lr: 5.0119e-08\n",
            "Epoch 16/100\n",
            "31/31 [==============================] - 1s 14ms/step - loss: 14.4442 - lr: 5.6234e-08\n",
            "Epoch 17/100\n",
            "31/31 [==============================] - 1s 13ms/step - loss: 14.2383 - lr: 6.3096e-08\n",
            "Epoch 18/100\n",
            "31/31 [==============================] - 0s 10ms/step - loss: 13.9974 - lr: 7.0795e-08\n",
            "Epoch 19/100\n",
            "31/31 [==============================] - 0s 9ms/step - loss: 13.7422 - lr: 7.9433e-08\n",
            "Epoch 20/100\n",
            "31/31 [==============================] - 0s 9ms/step - loss: 13.4631 - lr: 8.9125e-08\n",
            "Epoch 21/100\n",
            "31/31 [==============================] - 0s 10ms/step - loss: 13.1464 - lr: 1.0000e-07\n",
            "Epoch 22/100\n",
            "31/31 [==============================] - 0s 10ms/step - loss: 12.8092 - lr: 1.1220e-07\n",
            "Epoch 23/100\n",
            "31/31 [==============================] - 0s 10ms/step - loss: 12.4623 - lr: 1.2589e-07\n",
            "Epoch 24/100\n",
            "31/31 [==============================] - 0s 10ms/step - loss: 12.0859 - lr: 1.4125e-07\n",
            "Epoch 25/100\n",
            "31/31 [==============================] - 0s 10ms/step - loss: 11.7043 - lr: 1.5849e-07\n",
            "Epoch 26/100\n",
            "31/31 [==============================] - 0s 10ms/step - loss: 11.3098 - lr: 1.7783e-07\n",
            "Epoch 27/100\n",
            "31/31 [==============================] - 0s 10ms/step - loss: 10.9165 - lr: 1.9953e-07\n",
            "Epoch 28/100\n",
            "31/31 [==============================] - 0s 10ms/step - loss: 10.4998 - lr: 2.2387e-07\n",
            "Epoch 29/100\n",
            "31/31 [==============================] - 0s 10ms/step - loss: 10.0697 - lr: 2.5119e-07\n",
            "Epoch 30/100\n",
            "31/31 [==============================] - 0s 10ms/step - loss: 9.6437 - lr: 2.8184e-07\n",
            "Epoch 31/100\n",
            "31/31 [==============================] - 0s 10ms/step - loss: 9.2215 - lr: 3.1623e-07\n",
            "Epoch 32/100\n",
            "31/31 [==============================] - 0s 9ms/step - loss: 8.7804 - lr: 3.5481e-07\n",
            "Epoch 33/100\n",
            "31/31 [==============================] - 0s 10ms/step - loss: 8.3883 - lr: 3.9811e-07\n",
            "Epoch 34/100\n",
            "31/31 [==============================] - 0s 10ms/step - loss: 8.0486 - lr: 4.4668e-07\n",
            "Epoch 35/100\n",
            "31/31 [==============================] - 0s 10ms/step - loss: 7.8273 - lr: 5.0119e-07\n",
            "Epoch 36/100\n",
            "31/31 [==============================] - 0s 10ms/step - loss: 7.5752 - lr: 5.6234e-07\n",
            "Epoch 37/100\n",
            "31/31 [==============================] - 0s 10ms/step - loss: 7.4136 - lr: 6.3096e-07\n",
            "Epoch 38/100\n",
            "31/31 [==============================] - 0s 10ms/step - loss: 7.3191 - lr: 7.0795e-07\n",
            "Epoch 39/100\n",
            "31/31 [==============================] - 0s 10ms/step - loss: 7.2478 - lr: 7.9433e-07\n",
            "Epoch 40/100\n",
            "31/31 [==============================] - 1s 14ms/step - loss: 7.0455 - lr: 8.9125e-07\n",
            "Epoch 41/100\n",
            "31/31 [==============================] - 1s 15ms/step - loss: 6.9623 - lr: 1.0000e-06\n",
            "Epoch 42/100\n",
            "31/31 [==============================] - 1s 15ms/step - loss: 6.8331 - lr: 1.1220e-06\n",
            "Epoch 43/100\n",
            "31/31 [==============================] - 1s 10ms/step - loss: 6.7796 - lr: 1.2589e-06\n",
            "Epoch 44/100\n",
            "31/31 [==============================] - 0s 10ms/step - loss: 6.6514 - lr: 1.4125e-06\n",
            "Epoch 45/100\n",
            "31/31 [==============================] - 0s 10ms/step - loss: 6.5536 - lr: 1.5849e-06\n",
            "Epoch 46/100\n",
            "31/31 [==============================] - 0s 10ms/step - loss: 6.4962 - lr: 1.7783e-06\n",
            "Epoch 47/100\n",
            "31/31 [==============================] - 0s 10ms/step - loss: 6.3879 - lr: 1.9953e-06\n",
            "Epoch 48/100\n",
            "31/31 [==============================] - 0s 10ms/step - loss: 6.2704 - lr: 2.2387e-06\n",
            "Epoch 49/100\n",
            "31/31 [==============================] - 0s 10ms/step - loss: 6.2055 - lr: 2.5119e-06\n",
            "Epoch 50/100\n",
            "31/31 [==============================] - 0s 10ms/step - loss: 6.1205 - lr: 2.8184e-06\n",
            "Epoch 51/100\n",
            "31/31 [==============================] - 0s 10ms/step - loss: 6.0747 - lr: 3.1623e-06\n",
            "Epoch 52/100\n",
            "31/31 [==============================] - 0s 10ms/step - loss: 5.9671 - lr: 3.5481e-06\n",
            "Epoch 53/100\n",
            "31/31 [==============================] - 0s 11ms/step - loss: 6.1675 - lr: 3.9811e-06\n",
            "Epoch 54/100\n",
            "31/31 [==============================] - 0s 10ms/step - loss: 5.7876 - lr: 4.4668e-06\n",
            "Epoch 55/100\n",
            "31/31 [==============================] - 0s 10ms/step - loss: 5.6371 - lr: 5.0119e-06\n",
            "Epoch 56/100\n",
            "31/31 [==============================] - 0s 10ms/step - loss: 5.5768 - lr: 5.6234e-06\n",
            "Epoch 57/100\n",
            "31/31 [==============================] - 0s 10ms/step - loss: 5.9272 - lr: 6.3096e-06\n",
            "Epoch 58/100\n",
            "31/31 [==============================] - 0s 11ms/step - loss: 5.3635 - lr: 7.0795e-06\n",
            "Epoch 59/100\n",
            "31/31 [==============================] - 0s 10ms/step - loss: 5.3696 - lr: 7.9433e-06\n",
            "Epoch 60/100\n",
            "31/31 [==============================] - 0s 10ms/step - loss: 5.4412 - lr: 8.9125e-06\n",
            "Epoch 61/100\n",
            "31/31 [==============================] - 0s 10ms/step - loss: 5.6243 - lr: 1.0000e-05\n",
            "Epoch 62/100\n",
            "31/31 [==============================] - 0s 10ms/step - loss: 5.6996 - lr: 1.1220e-05\n",
            "Epoch 63/100\n",
            "31/31 [==============================] - 0s 10ms/step - loss: 5.4595 - lr: 1.2589e-05\n",
            "Epoch 64/100\n",
            "31/31 [==============================] - 0s 11ms/step - loss: 5.7539 - lr: 1.4125e-05\n",
            "Epoch 65/100\n",
            "31/31 [==============================] - 1s 14ms/step - loss: 5.5785 - lr: 1.5849e-05\n",
            "Epoch 66/100\n",
            "31/31 [==============================] - 1s 15ms/step - loss: 5.3197 - lr: 1.7783e-05\n",
            "Epoch 67/100\n",
            "31/31 [==============================] - 1s 14ms/step - loss: 5.3722 - lr: 1.9953e-05\n",
            "Epoch 68/100\n",
            "31/31 [==============================] - 0s 10ms/step - loss: 5.9702 - lr: 2.2387e-05\n",
            "Epoch 69/100\n",
            "31/31 [==============================] - 0s 10ms/step - loss: 5.7480 - lr: 2.5119e-05\n",
            "Epoch 70/100\n",
            "31/31 [==============================] - 0s 10ms/step - loss: 5.9839 - lr: 2.8184e-05\n",
            "Epoch 71/100\n",
            "31/31 [==============================] - 0s 10ms/step - loss: 5.3782 - lr: 3.1623e-05\n",
            "Epoch 72/100\n",
            "31/31 [==============================] - 0s 10ms/step - loss: 6.0800 - lr: 3.5481e-05\n",
            "Epoch 73/100\n",
            "31/31 [==============================] - 0s 10ms/step - loss: 5.7125 - lr: 3.9811e-05\n",
            "Epoch 74/100\n",
            "31/31 [==============================] - 0s 9ms/step - loss: 7.0639 - lr: 4.4668e-05\n",
            "Epoch 75/100\n",
            "31/31 [==============================] - 0s 10ms/step - loss: 5.7849 - lr: 5.0119e-05\n",
            "Epoch 76/100\n",
            "31/31 [==============================] - 0s 10ms/step - loss: 6.8409 - lr: 5.6234e-05\n",
            "Epoch 77/100\n",
            "31/31 [==============================] - 0s 10ms/step - loss: 5.7528 - lr: 6.3096e-05\n",
            "Epoch 78/100\n",
            "31/31 [==============================] - 0s 10ms/step - loss: 6.5973 - lr: 7.0795e-05\n",
            "Epoch 79/100\n",
            "31/31 [==============================] - 0s 10ms/step - loss: 7.3395 - lr: 7.9433e-05\n",
            "Epoch 80/100\n",
            "31/31 [==============================] - 0s 10ms/step - loss: 5.4449 - lr: 8.9125e-05\n",
            "Epoch 81/100\n",
            "31/31 [==============================] - 0s 10ms/step - loss: 8.8408 - lr: 1.0000e-04\n",
            "Epoch 82/100\n",
            "31/31 [==============================] - 0s 10ms/step - loss: 7.5979 - lr: 1.1220e-04\n",
            "Epoch 83/100\n",
            "31/31 [==============================] - 0s 10ms/step - loss: 6.6843 - lr: 1.2589e-04\n",
            "Epoch 84/100\n",
            "31/31 [==============================] - 0s 10ms/step - loss: 7.8782 - lr: 1.4125e-04\n",
            "Epoch 85/100\n",
            "31/31 [==============================] - 0s 11ms/step - loss: 5.8815 - lr: 1.5849e-04\n",
            "Epoch 86/100\n",
            "31/31 [==============================] - 0s 10ms/step - loss: 10.3126 - lr: 1.7783e-04\n",
            "Epoch 87/100\n",
            "31/31 [==============================] - 0s 10ms/step - loss: 7.6790 - lr: 1.9953e-04\n",
            "Epoch 88/100\n",
            "31/31 [==============================] - 0s 10ms/step - loss: 7.8395 - lr: 2.2387e-04\n",
            "Epoch 89/100\n",
            "31/31 [==============================] - 0s 10ms/step - loss: 8.9427 - lr: 2.5119e-04\n",
            "Epoch 90/100\n",
            "31/31 [==============================] - 1s 14ms/step - loss: 12.4930 - lr: 2.8184e-04\n",
            "Epoch 91/100\n",
            "31/31 [==============================] - 1s 14ms/step - loss: 6.7342 - lr: 3.1623e-04\n",
            "Epoch 92/100\n",
            "31/31 [==============================] - 1s 15ms/step - loss: 11.6610 - lr: 3.5481e-04\n",
            "Epoch 93/100\n",
            "31/31 [==============================] - 1s 13ms/step - loss: 7.8049 - lr: 3.9811e-04\n",
            "Epoch 94/100\n",
            "31/31 [==============================] - 0s 10ms/step - loss: 7.0662 - lr: 4.4668e-04\n",
            "Epoch 95/100\n",
            "31/31 [==============================] - 0s 10ms/step - loss: 9.5324 - lr: 5.0119e-04\n",
            "Epoch 96/100\n",
            "31/31 [==============================] - 0s 10ms/step - loss: 8.3228 - lr: 5.6234e-04\n",
            "Epoch 97/100\n",
            "31/31 [==============================] - 0s 10ms/step - loss: 8.4377 - lr: 6.3096e-04\n",
            "Epoch 98/100\n",
            "31/31 [==============================] - 0s 10ms/step - loss: 7.4756 - lr: 7.0795e-04\n",
            "Epoch 99/100\n",
            "31/31 [==============================] - 0s 9ms/step - loss: 6.9652 - lr: 7.9433e-04\n",
            "Epoch 100/100\n",
            "31/31 [==============================] - 0s 10ms/step - loss: 13.0271 - lr: 8.9125e-04\n"
          ]
        }
      ],
      "source": [
        "# Set the learning rate scheduler\n",
        "lr_schedule = tf.keras.callbacks.LearningRateScheduler(\n",
        "    lambda epoch: 1e-8 * 10**(epoch / 20))\n",
        "\n",
        "# Initialize the optimizer\n",
        "optimizer = tf.keras.optimizers.SGD(momentum=0.9)\n",
        "\n",
        "# Set the training parameters\n",
        "model_tune.compile(loss=tf.keras.losses.Huber(), optimizer=optimizer)\n",
        "\n",
        "# Train the model\n",
        "history = model_tune.fit(dataset, epochs=100, callbacks=[lr_schedule])"
      ]
    },
    {
      "cell_type": "code",
      "execution_count": 10,
      "metadata": {
        "id": "AkBsrsXMzoWR",
        "colab": {
          "base_uri": "https://localhost:8080/",
          "height": 405
        },
        "outputId": "eed7ba16-4eee-461f-cbdb-de16e0addbc9"
      },
      "outputs": [
        {
          "output_type": "execute_result",
          "data": {
            "text/plain": [
              "(1e-08, 0.001, 0.0, 30.0)"
            ]
          },
          "metadata": {},
          "execution_count": 10
        },
        {
          "output_type": "display_data",
          "data": {
            "text/plain": [
              "<Figure size 720x432 with 1 Axes>"
            ],
            "image/png": "[encoded data removed]"
          },
          "metadata": {
            "needs_background": "light"
          }
        }
      ],
      "source": [
        "# Define the learning rate array\n",
        "lrs = 1e-8 * (10 ** (np.arange(100) / 20))\n",
        "\n",
        "# Set the figure size\n",
        "plt.figure(figsize=(10, 6))\n",
        "\n",
        "# Set the grid\n",
        "plt.grid(True)\n",
        "\n",
        "# Plot the loss in log scale\n",
        "plt.semilogx(lrs, history.history[\"loss\"])\n",
        "\n",
        "# Increase the tickmarks size\n",
        "plt.tick_params('both', length=10, width=1, which='both')\n",
        "\n",
        "# Set the plot boundaries\n",
        "plt.axis([1e-8, 1e-3, 0, 30])"
      ]
    },
    {
      "cell_type": "markdown",
      "metadata": {
        "id": "i-lKNp4pq_w8"
      },
      "source": [
        "## Train the Model\n",
        "\n",
        "You can then proceed to train the model with your chosen learning rate. \n",
        "\n",
        "*Tip: When experimenting and you find yourself running different iterations of a model, you may want to use the [`clear_session()`](https://www.tensorflow.org/api_docs/python/tf/keras/backend/clear_session) method to declutter memory used by Keras. This is added in the first line below.*\n"
      ]
    },
    {
      "cell_type": "code",
      "execution_count": 11,
      "metadata": {
        "id": "4uh-97bpLZCA",
        "colab": {
          "base_uri": "https://localhost:8080/"
        },
        "outputId": "a6a419a9-7644-4d54-aa61-c43d070584eb"
      },
      "outputs": [
        {
          "output_type": "stream",
          "name": "stdout",
          "text": [
            "Epoch 1/100\n",
            "31/31 [==============================] - 6s 15ms/step - loss: 18.2472 - mae: 18.7410\n",
            "Epoch 2/100\n",
            "31/31 [==============================] - 1s 14ms/step - loss: 9.3770 - mae: 9.8629\n",
            "Epoch 3/100\n",
            "31/31 [==============================] - 1s 15ms/step - loss: 7.9550 - mae: 8.4376\n",
            "Epoch 4/100\n",
            "31/31 [==============================] - 1s 17ms/step - loss: 7.5044 - mae: 7.9836\n",
            "Epoch 5/100\n",
            "31/31 [==============================] - 1s 18ms/step - loss: 7.4074 - mae: 7.8934\n",
            "Epoch 6/100\n",
            "31/31 [==============================] - 0s 10ms/step - loss: 6.8614 - mae: 7.3435\n",
            "Epoch 7/100\n",
            "31/31 [==============================] - 0s 10ms/step - loss: 6.6441 - mae: 7.1224\n",
            "Epoch 8/100\n",
            "31/31 [==============================] - 0s 10ms/step - loss: 6.5053 - mae: 6.9826\n",
            "Epoch 9/100\n",
            "31/31 [==============================] - 0s 10ms/step - loss: 6.5185 - mae: 7.0007\n",
            "Epoch 10/100\n",
            "31/31 [==============================] - 0s 10ms/step - loss: 6.3582 - mae: 6.8359\n",
            "Epoch 11/100\n",
            "31/31 [==============================] - 0s 10ms/step - loss: 6.2433 - mae: 6.7199\n",
            "Epoch 12/100\n",
            "31/31 [==============================] - 0s 10ms/step - loss: 6.2221 - mae: 6.7076\n",
            "Epoch 13/100\n",
            "31/31 [==============================] - 0s 10ms/step - loss: 5.9777 - mae: 6.4536\n",
            "Epoch 14/100\n",
            "31/31 [==============================] - 0s 10ms/step - loss: 5.9225 - mae: 6.4009\n",
            "Epoch 15/100\n",
            "31/31 [==============================] - 0s 11ms/step - loss: 5.8711 - mae: 6.3502\n",
            "Epoch 16/100\n",
            "31/31 [==============================] - 0s 10ms/step - loss: 5.7810 - mae: 6.2599\n",
            "Epoch 17/100\n",
            "31/31 [==============================] - 0s 10ms/step - loss: 5.7384 - mae: 6.2136\n",
            "Epoch 18/100\n",
            "31/31 [==============================] - 0s 10ms/step - loss: 5.6584 - mae: 6.1355\n",
            "Epoch 19/100\n",
            "31/31 [==============================] - 0s 10ms/step - loss: 5.5264 - mae: 6.0023\n",
            "Epoch 20/100\n",
            "31/31 [==============================] - 0s 10ms/step - loss: 5.4991 - mae: 5.9817\n",
            "Epoch 21/100\n",
            "31/31 [==============================] - 0s 10ms/step - loss: 5.4187 - mae: 5.8959\n",
            "Epoch 22/100\n",
            "31/31 [==============================] - 1s 13ms/step - loss: 5.3940 - mae: 5.8733\n",
            "Epoch 23/100\n",
            "31/31 [==============================] - 1s 15ms/step - loss: 5.3484 - mae: 5.8254\n",
            "Epoch 24/100\n",
            "31/31 [==============================] - 0s 11ms/step - loss: 5.2509 - mae: 5.7255\n",
            "Epoch 25/100\n",
            "31/31 [==============================] - 0s 10ms/step - loss: 5.3132 - mae: 5.7885\n",
            "Epoch 26/100\n",
            "31/31 [==============================] - 0s 11ms/step - loss: 5.4597 - mae: 5.9412\n",
            "Epoch 27/100\n",
            "31/31 [==============================] - 0s 10ms/step - loss: 5.4248 - mae: 5.9077\n",
            "Epoch 28/100\n",
            "31/31 [==============================] - 0s 11ms/step - loss: 5.0894 - mae: 5.5676\n",
            "Epoch 29/100\n",
            "31/31 [==============================] - 0s 11ms/step - loss: 5.0781 - mae: 5.5535\n",
            "Epoch 30/100\n",
            "31/31 [==============================] - 0s 10ms/step - loss: 5.1915 - mae: 5.6685\n",
            "Epoch 31/100\n",
            "31/31 [==============================] - 0s 10ms/step - loss: 5.0316 - mae: 5.5079\n",
            "Epoch 32/100\n",
            "31/31 [==============================] - 0s 10ms/step - loss: 4.9440 - mae: 5.4207\n",
            "Epoch 33/100\n",
            "31/31 [==============================] - 0s 10ms/step - loss: 5.0063 - mae: 5.4859\n",
            "Epoch 34/100\n",
            "31/31 [==============================] - 0s 10ms/step - loss: 5.1226 - mae: 5.6026\n",
            "Epoch 35/100\n",
            "31/31 [==============================] - 0s 10ms/step - loss: 4.9335 - mae: 5.4089\n",
            "Epoch 36/100\n",
            "31/31 [==============================] - 0s 10ms/step - loss: 4.9761 - mae: 5.4513\n",
            "Epoch 37/100\n",
            "31/31 [==============================] - 0s 11ms/step - loss: 4.8331 - mae: 5.3074\n",
            "Epoch 38/100\n",
            "31/31 [==============================] - 0s 10ms/step - loss: 4.9014 - mae: 5.3782\n",
            "Epoch 39/100\n",
            "31/31 [==============================] - 0s 10ms/step - loss: 4.8559 - mae: 5.3340\n",
            "Epoch 40/100\n",
            "31/31 [==============================] - 0s 10ms/step - loss: 4.7200 - mae: 5.1964\n",
            "Epoch 41/100\n",
            "31/31 [==============================] - 0s 10ms/step - loss: 4.7938 - mae: 5.2712\n",
            "Epoch 42/100\n",
            "31/31 [==============================] - 0s 10ms/step - loss: 4.7806 - mae: 5.2572\n",
            "Epoch 43/100\n",
            "31/31 [==============================] - 0s 11ms/step - loss: 4.6953 - mae: 5.1727\n",
            "Epoch 44/100\n",
            "31/31 [==============================] - 0s 11ms/step - loss: 4.7460 - mae: 5.2238\n",
            "Epoch 45/100\n",
            "31/31 [==============================] - 1s 15ms/step - loss: 4.7740 - mae: 5.2520\n",
            "Epoch 46/100\n",
            "31/31 [==============================] - 1s 14ms/step - loss: 4.6731 - mae: 5.1507\n",
            "Epoch 47/100\n",
            "31/31 [==============================] - 1s 14ms/step - loss: 4.7428 - mae: 5.2209\n",
            "Epoch 48/100\n",
            "31/31 [==============================] - 1s 11ms/step - loss: 4.6326 - mae: 5.1076\n",
            "Epoch 49/100\n",
            "31/31 [==============================] - 0s 10ms/step - loss: 4.6469 - mae: 5.1251\n",
            "Epoch 50/100\n",
            "31/31 [==============================] - 0s 10ms/step - loss: 4.6466 - mae: 5.1241\n",
            "Epoch 51/100\n",
            "31/31 [==============================] - 0s 10ms/step - loss: 4.5764 - mae: 5.0545\n",
            "Epoch 52/100\n",
            "31/31 [==============================] - 0s 10ms/step - loss: 4.6128 - mae: 5.0834\n",
            "Epoch 53/100\n",
            "31/31 [==============================] - 0s 10ms/step - loss: 4.6075 - mae: 5.0835\n",
            "Epoch 54/100\n",
            "31/31 [==============================] - 0s 10ms/step - loss: 4.6014 - mae: 5.0767\n",
            "Epoch 55/100\n",
            "31/31 [==============================] - 0s 10ms/step - loss: 4.6742 - mae: 5.1527\n",
            "Epoch 56/100\n",
            "31/31 [==============================] - 0s 10ms/step - loss: 4.5414 - mae: 5.0145\n",
            "Epoch 57/100\n",
            "31/31 [==============================] - 0s 10ms/step - loss: 4.5872 - mae: 5.0648\n",
            "Epoch 58/100\n",
            "31/31 [==============================] - 0s 10ms/step - loss: 4.5685 - mae: 5.0399\n",
            "Epoch 59/100\n",
            "31/31 [==============================] - 0s 10ms/step - loss: 4.8052 - mae: 5.2805\n",
            "Epoch 60/100\n",
            "31/31 [==============================] - 0s 10ms/step - loss: 4.5722 - mae: 5.0456\n",
            "Epoch 61/100\n",
            "31/31 [==============================] - 0s 10ms/step - loss: 4.6073 - mae: 5.0835\n",
            "Epoch 62/100\n",
            "31/31 [==============================] - 0s 10ms/step - loss: 4.6601 - mae: 5.1356\n",
            "Epoch 63/100\n",
            "31/31 [==============================] - 0s 11ms/step - loss: 4.6655 - mae: 5.1400\n",
            "Epoch 64/100\n",
            "31/31 [==============================] - 0s 10ms/step - loss: 4.6160 - mae: 5.0939\n",
            "Epoch 65/100\n",
            "31/31 [==============================] - 0s 11ms/step - loss: 4.6526 - mae: 5.1277\n",
            "Epoch 66/100\n",
            "31/31 [==============================] - 0s 11ms/step - loss: 4.5585 - mae: 5.0333\n",
            "Epoch 67/100\n",
            "31/31 [==============================] - 0s 11ms/step - loss: 4.5862 - mae: 5.0607\n",
            "Epoch 68/100\n",
            "31/31 [==============================] - 0s 11ms/step - loss: 4.5666 - mae: 5.0417\n",
            "Epoch 69/100\n",
            "31/31 [==============================] - 1s 15ms/step - loss: 4.5203 - mae: 4.9966\n",
            "Epoch 70/100\n",
            "31/31 [==============================] - 1s 11ms/step - loss: 4.4912 - mae: 4.9621\n",
            "Epoch 71/100\n",
            "31/31 [==============================] - 0s 11ms/step - loss: 4.4925 - mae: 4.9669\n",
            "Epoch 72/100\n",
            "31/31 [==============================] - 0s 10ms/step - loss: 4.4857 - mae: 4.9603\n",
            "Epoch 73/100\n",
            "31/31 [==============================] - 0s 11ms/step - loss: 4.5051 - mae: 4.9814\n",
            "Epoch 74/100\n",
            "31/31 [==============================] - 0s 10ms/step - loss: 4.4936 - mae: 4.9693\n",
            "Epoch 75/100\n",
            "31/31 [==============================] - 0s 10ms/step - loss: 4.6540 - mae: 5.1281\n",
            "Epoch 76/100\n",
            "31/31 [==============================] - 0s 10ms/step - loss: 4.6117 - mae: 5.0858\n",
            "Epoch 77/100\n",
            "31/31 [==============================] - 0s 10ms/step - loss: 4.6523 - mae: 5.1295\n",
            "Epoch 78/100\n",
            "31/31 [==============================] - 0s 10ms/step - loss: 4.5021 - mae: 4.9749\n",
            "Epoch 79/100\n",
            "31/31 [==============================] - 0s 10ms/step - loss: 4.5325 - mae: 5.0069\n",
            "Epoch 80/100\n",
            "31/31 [==============================] - 0s 10ms/step - loss: 4.4531 - mae: 4.9253\n",
            "Epoch 81/100\n",
            "31/31 [==============================] - 0s 10ms/step - loss: 4.4823 - mae: 4.9599\n",
            "Epoch 82/100\n",
            "31/31 [==============================] - 0s 11ms/step - loss: 4.6143 - mae: 5.0898\n",
            "Epoch 83/100\n",
            "31/31 [==============================] - 0s 10ms/step - loss: 4.7496 - mae: 5.2250\n",
            "Epoch 84/100\n",
            "31/31 [==============================] - 0s 11ms/step - loss: 4.6816 - mae: 5.1601\n",
            "Epoch 85/100\n",
            "31/31 [==============================] - 0s 10ms/step - loss: 4.8368 - mae: 5.3095\n",
            "Epoch 86/100\n",
            "31/31 [==============================] - 0s 10ms/step - loss: 4.5683 - mae: 5.0446\n",
            "Epoch 87/100\n",
            "31/31 [==============================] - 0s 10ms/step - loss: 4.4697 - mae: 4.9474\n",
            "Epoch 88/100\n",
            "31/31 [==============================] - 0s 12ms/step - loss: 4.4782 - mae: 4.9553\n",
            "Epoch 89/100\n",
            "31/31 [==============================] - 0s 10ms/step - loss: 4.4715 - mae: 4.9473\n",
            "Epoch 90/100\n",
            "31/31 [==============================] - 1s 16ms/step - loss: 4.4949 - mae: 4.9696\n",
            "Epoch 91/100\n",
            "31/31 [==============================] - 1s 14ms/step - loss: 4.4487 - mae: 4.9219\n",
            "Epoch 92/100\n",
            "31/31 [==============================] - 1s 15ms/step - loss: 4.4764 - mae: 4.9472\n",
            "Epoch 93/100\n",
            "31/31 [==============================] - 0s 11ms/step - loss: 4.5086 - mae: 4.9833\n",
            "Epoch 94/100\n",
            "31/31 [==============================] - 0s 11ms/step - loss: 4.4896 - mae: 4.9660\n",
            "Epoch 95/100\n",
            "31/31 [==============================] - 0s 11ms/step - loss: 4.5187 - mae: 4.9948\n",
            "Epoch 96/100\n",
            "31/31 [==============================] - 0s 11ms/step - loss: 4.4636 - mae: 4.9384\n",
            "Epoch 97/100\n",
            "31/31 [==============================] - 0s 11ms/step - loss: 4.4477 - mae: 4.9230\n",
            "Epoch 98/100\n",
            "31/31 [==============================] - 0s 10ms/step - loss: 4.5593 - mae: 5.0333\n",
            "Epoch 99/100\n",
            "31/31 [==============================] - 0s 10ms/step - loss: 4.5660 - mae: 5.0402\n",
            "Epoch 100/100\n",
            "31/31 [==============================] - 0s 10ms/step - loss: 4.4554 - mae: 4.9285\n"
          ]
        }
      ],
      "source": [
        "# Reset states generated by Keras\n",
        "tf.keras.backend.clear_session()\n",
        "\n",
        "# Build the model\n",
        "model = tf.keras.models.Sequential([\n",
        "  tf.keras.layers.Lambda(lambda x: tf.expand_dims(x, axis=-1),\n",
        "                      input_shape=[None]),\n",
        "   tf.keras.layers.Bidirectional(tf.keras.layers.LSTM(32, return_sequences=True)),\n",
        "  tf.keras.layers.Bidirectional(tf.keras.layers.LSTM(32)),\n",
        "  tf.keras.layers.Dense(1),\n",
        "  tf.keras.layers.Lambda(lambda x: x * 100.0)\n",
        "])\n",
        "\n",
        "# Set the learning rate\n",
        "learning_rate = 2e-6\n",
        "\n",
        "# Set the optimizer \n",
        "optimizer = tf.keras.optimizers.SGD(learning_rate=learning_rate, momentum=0.9)\n",
        "\n",
        "# Set the training parameters\n",
        "model.compile(loss=tf.keras.losses.Huber(),\n",
        "              optimizer=optimizer,\n",
        "              metrics=[\"mae\"])\n",
        "\n",
        "# Train the model\n",
        "history = model.fit(dataset,epochs=100)"
      ]
    },
    {
      "cell_type": "markdown",
      "metadata": {
        "id": "RjP4kbGiI7cw"
      },
      "source": [
        "## Model Prediction\n",
        "\n",
        "You will then generate batches of windows to generate predictions that align with the validation set."
      ]
    },
    {
      "cell_type": "code",
      "execution_count": 12,
      "metadata": {
        "id": "QO8cfKwKBBG6"
      },
      "outputs": [],
      "source": [
        "def model_forecast(model, series, window_size, batch_size):\n",
        "    \"\"\"Uses an input model to generate predictions on data windows\n",
        "\n",
        "    Args:\n",
        "      model (TF Keras Model) - model that accepts data windows\n",
        "      series (array of float) - contains the values of the time series\n",
        "      window_size (int) - the number of time steps to include in the window\n",
        "      batch_size (int) - the batch size\n",
        "\n",
        "    Returns:\n",
        "      forecast (numpy array) - array containing predictions\n",
        "    \"\"\"\n",
        "\n",
        "    # Generate a TF Dataset from the series values\n",
        "    dataset = tf.data.Dataset.from_tensor_slices(series)\n",
        "\n",
        "    # Window the data but only take those with the specified size\n",
        "    dataset = dataset.window(window_size, shift=1, drop_remainder=True)\n",
        "\n",
        "    # Flatten the windows by putting its elements in a single batch\n",
        "    dataset = dataset.flat_map(lambda w: w.batch(window_size))\n",
        "    \n",
        "    # Create batches of windows\n",
        "    dataset = dataset.batch(batch_size).prefetch(1)\n",
        "    \n",
        "    # Get predictions on the entire dataset\n",
        "    forecast = model.predict(dataset)\n",
        "    \n",
        "    return forecast"
      ]
    },
    {
      "cell_type": "code",
      "execution_count": 13,
      "metadata": {
        "id": "_plB3UseBD8o",
        "colab": {
          "base_uri": "https://localhost:8080/",
          "height": 405
        },
        "outputId": "15e9998c-cbfb-48f0-b7ab-5f56e8049836"
      },
      "outputs": [
        {
          "output_type": "stream",
          "name": "stdout",
          "text": [
            "15/15 [==============================] - 1s 8ms/step\n"
          ]
        },
        {
          "output_type": "display_data",
          "data": {
            "text/plain": [
              "<Figure size 720x432 with 1 Axes>"
            ],
            "image/png": "[encoded data removed]"
          },
          "metadata": {
            "needs_background": "light"
          }
        }
      ],
      "source": [
        "# Reduce the original series\n",
        "forecast_series = series[split_time-window_size:-1]\n",
        "\n",
        "# Use helper function to generate predictions\n",
        "forecast = model_forecast(model, forecast_series, window_size, batch_size)\n",
        "\n",
        "# Drop single dimensional axis\n",
        "results = forecast.squeeze()\n",
        "\n",
        "# Plot the results\n",
        "plot_series(time_valid, (x_valid, results))"
      ]
    },
    {
      "cell_type": "markdown",
      "metadata": {
        "id": "Nn8iSQkZtaRC"
      },
      "source": [
        "You can then generate the metrics to evaluate the model's performance."
      ]
    },
    {
      "cell_type": "code",
      "execution_count": 14,
      "metadata": {
        "id": "-IKhueZaBGID",
        "colab": {
          "base_uri": "https://localhost:8080/"
        },
        "outputId": "50e1031b-32c7-4428-fac6-edafbc64bab3"
      },
      "outputs": [
        {
          "output_type": "stream",
          "name": "stdout",
          "text": [
            "65.25986\n",
            "5.7591333\n"
          ]
        }
      ],
      "source": [
        "# Compute the MSE and MAE\n",
        "print(tf.keras.metrics.mean_squared_error(x_valid, results).numpy())\n",
        "print(tf.keras.metrics.mean_absolute_error(x_valid, results).numpy())"
      ]
    },
    {
      "cell_type": "markdown",
      "metadata": {
        "id": "bzPIqeMWvbPy"
      },
      "source": [
        "## Wrap Up\n",
        "\n",
        "This concludes this short exercise on using LSTMs for time series forecasting. Next week, you will build upon this and add convolutions. Then, you will start to move away from synthetic data and use real-world datasets. See you there!"
      ]
    },
    {
      "cell_type": "markdown",
      "metadata": {
        "id": "U5PqTePGHeMH"
      },
      "source": [
        "## Optional: Including a Validation Set while Training\n",
        "\n",
        "Back in the first course of this specialization, you saw how you can also monitor the performance of your model against a validation set while training. You can also do that for this lab. \n",
        "\n",
        "First, you need to generate a `val_set` which are data windows and labels that your model can accept. You can simply reuse the `windowed_dataset` function for that and you can pass in the `x_valid` points to generate the windows."
      ]
    },
    {
      "cell_type": "code",
      "execution_count": 15,
      "metadata": {
        "id": "kvFVwL3PC4iX"
      },
      "outputs": [],
      "source": [
        "# Generate data windows of the validation set\n",
        "val_set = windowed_dataset(x_valid, window_size, batch_size, shuffle_buffer_size)"
      ]
    },
    {
      "cell_type": "markdown",
      "metadata": {
        "id": "p68j6XxEvP9K"
      },
      "source": [
        "You can then do the same training as before but pass in the `val_set` to the `validation_data` parameter of the `fit()` method."
      ]
    },
    {
      "cell_type": "code",
      "execution_count": 16,
      "metadata": {
        "id": "wujKz6tXDSn0",
        "colab": {
          "base_uri": "https://localhost:8080/"
        },
        "outputId": "872792e7-1b27-486b-cb0a-9825197afc7d"
      },
      "outputs": [
        {
          "output_type": "stream",
          "name": "stdout",
          "text": [
            "Epoch 1/100\n",
            "31/31 [==============================] - 8s 59ms/step - loss: 15.9731 - mae: 16.4672 - val_loss: 26.8654 - val_mae: 27.3635\n",
            "Epoch 2/100\n",
            "31/31 [==============================] - 1s 14ms/step - loss: 9.0622 - mae: 9.5485 - val_loss: 21.8760 - val_mae: 22.3735\n",
            "Epoch 3/100\n",
            "31/31 [==============================] - 1s 15ms/step - loss: 7.7305 - mae: 8.2177 - val_loss: 15.9989 - val_mae: 16.4945\n",
            "Epoch 4/100\n",
            "31/31 [==============================] - 1s 15ms/step - loss: 7.1628 - mae: 7.6462 - val_loss: 14.7614 - val_mae: 15.2564\n",
            "Epoch 5/100\n",
            "31/31 [==============================] - 1s 14ms/step - loss: 6.9918 - mae: 7.4721 - val_loss: 13.7741 - val_mae: 14.2727\n",
            "Epoch 6/100\n",
            "31/31 [==============================] - 1s 14ms/step - loss: 6.6920 - mae: 7.1700 - val_loss: 11.9441 - val_mae: 12.4355\n",
            "Epoch 7/100\n",
            "31/31 [==============================] - 1s 13ms/step - loss: 6.5647 - mae: 7.0460 - val_loss: 11.9964 - val_mae: 12.4933\n",
            "Epoch 8/100\n",
            "31/31 [==============================] - 1s 14ms/step - loss: 6.4315 - mae: 6.9109 - val_loss: 9.1023 - val_mae: 9.5919\n",
            "Epoch 9/100\n",
            "31/31 [==============================] - 1s 14ms/step - loss: 6.3443 - mae: 6.8226 - val_loss: 9.6091 - val_mae: 10.0985\n",
            "Epoch 10/100\n",
            "31/31 [==============================] - 1s 14ms/step - loss: 6.1800 - mae: 6.6558 - val_loss: 9.4875 - val_mae: 9.9784\n",
            "Epoch 11/100\n",
            "31/31 [==============================] - 1s 14ms/step - loss: 6.1399 - mae: 6.6184 - val_loss: 8.5596 - val_mae: 9.0447\n",
            "Epoch 12/100\n",
            "31/31 [==============================] - 1s 14ms/step - loss: 6.1889 - mae: 6.6677 - val_loss: 7.9547 - val_mae: 8.4386\n",
            "Epoch 13/100\n",
            "31/31 [==============================] - 1s 14ms/step - loss: 6.1686 - mae: 6.6494 - val_loss: 9.9701 - val_mae: 10.4589\n",
            "Epoch 14/100\n",
            "31/31 [==============================] - 1s 14ms/step - loss: 6.5846 - mae: 7.0666 - val_loss: 11.8099 - val_mae: 12.3013\n",
            "Epoch 15/100\n",
            "31/31 [==============================] - 1s 22ms/step - loss: 6.4587 - mae: 6.9449 - val_loss: 10.2092 - val_mae: 10.6996\n",
            "Epoch 16/100\n",
            "31/31 [==============================] - 1s 25ms/step - loss: 6.0552 - mae: 6.5347 - val_loss: 9.9537 - val_mae: 10.4420\n",
            "Epoch 17/100\n",
            "31/31 [==============================] - 1s 14ms/step - loss: 5.8713 - mae: 6.3473 - val_loss: 8.8322 - val_mae: 9.3192\n",
            "Epoch 18/100\n",
            "31/31 [==============================] - 1s 14ms/step - loss: 5.9829 - mae: 6.4565 - val_loss: 7.8959 - val_mae: 8.3807\n",
            "Epoch 19/100\n",
            "31/31 [==============================] - 1s 15ms/step - loss: 5.7901 - mae: 6.2668 - val_loss: 8.2748 - val_mae: 8.7586\n",
            "Epoch 20/100\n",
            "31/31 [==============================] - 1s 14ms/step - loss: 5.8252 - mae: 6.3036 - val_loss: 8.7095 - val_mae: 9.1997\n",
            "Epoch 21/100\n",
            "31/31 [==============================] - 1s 14ms/step - loss: 5.8250 - mae: 6.3026 - val_loss: 7.7230 - val_mae: 8.2093\n",
            "Epoch 22/100\n",
            "31/31 [==============================] - 1s 14ms/step - loss: 5.7628 - mae: 6.2391 - val_loss: 8.5643 - val_mae: 9.0507\n",
            "Epoch 23/100\n",
            "31/31 [==============================] - 1s 14ms/step - loss: 5.6468 - mae: 6.1244 - val_loss: 7.9955 - val_mae: 8.4801\n",
            "Epoch 24/100\n",
            "31/31 [==============================] - 1s 14ms/step - loss: 5.6709 - mae: 6.1509 - val_loss: 9.1328 - val_mae: 9.6238\n",
            "Epoch 25/100\n",
            "31/31 [==============================] - 1s 14ms/step - loss: 5.8173 - mae: 6.2932 - val_loss: 8.6976 - val_mae: 9.1878\n",
            "Epoch 26/100\n",
            "31/31 [==============================] - 1s 14ms/step - loss: 5.8319 - mae: 6.3058 - val_loss: 7.9469 - val_mae: 8.4312\n",
            "Epoch 27/100\n",
            "31/31 [==============================] - 1s 14ms/step - loss: 5.5980 - mae: 6.0756 - val_loss: 8.5041 - val_mae: 8.9927\n",
            "Epoch 28/100\n",
            "31/31 [==============================] - 1s 14ms/step - loss: 5.5430 - mae: 6.0187 - val_loss: 7.7222 - val_mae: 8.2064\n",
            "Epoch 29/100\n",
            "31/31 [==============================] - 1s 14ms/step - loss: 5.5469 - mae: 6.0236 - val_loss: 8.1626 - val_mae: 8.6483\n",
            "Epoch 30/100\n",
            "31/31 [==============================] - 1s 14ms/step - loss: 5.6694 - mae: 6.1474 - val_loss: 7.0442 - val_mae: 7.5274\n",
            "Epoch 31/100\n",
            "31/31 [==============================] - 1s 14ms/step - loss: 5.5276 - mae: 6.0063 - val_loss: 9.4278 - val_mae: 9.9181\n",
            "Epoch 32/100\n",
            "31/31 [==============================] - 1s 14ms/step - loss: 5.4345 - mae: 5.9108 - val_loss: 7.0861 - val_mae: 7.5688\n",
            "Epoch 33/100\n",
            "31/31 [==============================] - 1s 13ms/step - loss: 5.5247 - mae: 6.0043 - val_loss: 7.3017 - val_mae: 7.7878\n",
            "Epoch 34/100\n",
            "31/31 [==============================] - 1s 14ms/step - loss: 5.3664 - mae: 5.8405 - val_loss: 7.0783 - val_mae: 7.5600\n",
            "Epoch 35/100\n",
            "31/31 [==============================] - 1s 25ms/step - loss: 5.3873 - mae: 5.8638 - val_loss: 8.2423 - val_mae: 8.7311\n",
            "Epoch 36/100\n",
            "31/31 [==============================] - 1s 21ms/step - loss: 5.4113 - mae: 5.8891 - val_loss: 8.9768 - val_mae: 9.4653\n",
            "Epoch 37/100\n",
            "31/31 [==============================] - 1s 16ms/step - loss: 5.4129 - mae: 5.8898 - val_loss: 7.2013 - val_mae: 7.6867\n",
            "Epoch 38/100\n",
            "31/31 [==============================] - 1s 14ms/step - loss: 5.3839 - mae: 5.8622 - val_loss: 7.0470 - val_mae: 7.5288\n",
            "Epoch 39/100\n",
            "31/31 [==============================] - 1s 14ms/step - loss: 5.4158 - mae: 5.8950 - val_loss: 6.8172 - val_mae: 7.3002\n",
            "Epoch 40/100\n",
            "31/31 [==============================] - 1s 14ms/step - loss: 5.3374 - mae: 5.8142 - val_loss: 7.9279 - val_mae: 8.4127\n",
            "Epoch 41/100\n",
            "31/31 [==============================] - 1s 14ms/step - loss: 5.2908 - mae: 5.7694 - val_loss: 7.4610 - val_mae: 7.9462\n",
            "Epoch 42/100\n",
            "31/31 [==============================] - 1s 14ms/step - loss: 5.2611 - mae: 5.7367 - val_loss: 7.0778 - val_mae: 7.5622\n",
            "Epoch 43/100\n",
            "31/31 [==============================] - 1s 14ms/step - loss: 5.2923 - mae: 5.7697 - val_loss: 8.4084 - val_mae: 8.8967\n",
            "Epoch 44/100\n",
            "31/31 [==============================] - 1s 14ms/step - loss: 5.1602 - mae: 5.6390 - val_loss: 7.7423 - val_mae: 8.2256\n",
            "Epoch 45/100\n",
            "31/31 [==============================] - 1s 14ms/step - loss: 5.1225 - mae: 5.5995 - val_loss: 6.9126 - val_mae: 7.3977\n",
            "Epoch 46/100\n",
            "31/31 [==============================] - 1s 14ms/step - loss: 5.1481 - mae: 5.6268 - val_loss: 6.6573 - val_mae: 7.1383\n",
            "Epoch 47/100\n",
            "31/31 [==============================] - 1s 14ms/step - loss: 5.1275 - mae: 5.6022 - val_loss: 6.9069 - val_mae: 7.3907\n",
            "Epoch 48/100\n",
            "31/31 [==============================] - 1s 14ms/step - loss: 5.1480 - mae: 5.6232 - val_loss: 8.2065 - val_mae: 8.6945\n",
            "Epoch 49/100\n",
            "31/31 [==============================] - 1s 14ms/step - loss: 5.1055 - mae: 5.5812 - val_loss: 7.0176 - val_mae: 7.5037\n",
            "Epoch 50/100\n",
            "31/31 [==============================] - 1s 14ms/step - loss: 5.1592 - mae: 5.6372 - val_loss: 7.1951 - val_mae: 7.6786\n",
            "Epoch 51/100\n",
            "31/31 [==============================] - 1s 14ms/step - loss: 5.0099 - mae: 5.4908 - val_loss: 7.7232 - val_mae: 8.2079\n",
            "Epoch 52/100\n",
            "31/31 [==============================] - 1s 14ms/step - loss: 5.1160 - mae: 5.5881 - val_loss: 6.4755 - val_mae: 6.9585\n",
            "Epoch 53/100\n",
            "31/31 [==============================] - 1s 16ms/step - loss: 5.1966 - mae: 5.6716 - val_loss: 7.4670 - val_mae: 7.9498\n",
            "Epoch 54/100\n",
            "31/31 [==============================] - 1s 15ms/step - loss: 4.9756 - mae: 5.4558 - val_loss: 7.7347 - val_mae: 8.2207\n",
            "Epoch 55/100\n",
            "31/31 [==============================] - 1s 25ms/step - loss: 4.9784 - mae: 5.4583 - val_loss: 6.7383 - val_mae: 7.2265\n",
            "Epoch 56/100\n",
            "31/31 [==============================] - 1s 21ms/step - loss: 5.0537 - mae: 5.5328 - val_loss: 6.4290 - val_mae: 6.9150\n",
            "Epoch 57/100\n",
            "31/31 [==============================] - 1s 14ms/step - loss: 5.0188 - mae: 5.4966 - val_loss: 7.2199 - val_mae: 7.7009\n",
            "Epoch 58/100\n",
            "31/31 [==============================] - 1s 14ms/step - loss: 5.0123 - mae: 5.4832 - val_loss: 7.4046 - val_mae: 7.8883\n",
            "Epoch 59/100\n",
            "31/31 [==============================] - 1s 14ms/step - loss: 4.9430 - mae: 5.4188 - val_loss: 7.3476 - val_mae: 7.8307\n",
            "Epoch 60/100\n",
            "31/31 [==============================] - 1s 14ms/step - loss: 4.9890 - mae: 5.4646 - val_loss: 7.5246 - val_mae: 8.0078\n",
            "Epoch 61/100\n",
            "31/31 [==============================] - 1s 14ms/step - loss: 4.8749 - mae: 5.3484 - val_loss: 7.4967 - val_mae: 7.9802\n",
            "Epoch 62/100\n",
            "31/31 [==============================] - 1s 14ms/step - loss: 4.8357 - mae: 5.3084 - val_loss: 6.8275 - val_mae: 7.3071\n",
            "Epoch 63/100\n",
            "31/31 [==============================] - 1s 14ms/step - loss: 4.8426 - mae: 5.3181 - val_loss: 7.3693 - val_mae: 7.8525\n",
            "Epoch 64/100\n",
            "31/31 [==============================] - 1s 14ms/step - loss: 4.9248 - mae: 5.4016 - val_loss: 6.7571 - val_mae: 7.2388\n",
            "Epoch 65/100\n",
            "31/31 [==============================] - 1s 14ms/step - loss: 4.8277 - mae: 5.3011 - val_loss: 7.4015 - val_mae: 7.8842\n",
            "Epoch 66/100\n",
            "31/31 [==============================] - 1s 14ms/step - loss: 4.9487 - mae: 5.4270 - val_loss: 8.0853 - val_mae: 8.5749\n",
            "Epoch 67/100\n",
            "31/31 [==============================] - 1s 14ms/step - loss: 5.0496 - mae: 5.5239 - val_loss: 6.9055 - val_mae: 7.3858\n",
            "Epoch 68/100\n",
            "31/31 [==============================] - 1s 14ms/step - loss: 4.9584 - mae: 5.4329 - val_loss: 7.2167 - val_mae: 7.6992\n",
            "Epoch 69/100\n",
            "31/31 [==============================] - 1s 14ms/step - loss: 4.8570 - mae: 5.3335 - val_loss: 6.9676 - val_mae: 7.4476\n",
            "Epoch 70/100\n",
            "31/31 [==============================] - 1s 15ms/step - loss: 4.8039 - mae: 5.2819 - val_loss: 6.8207 - val_mae: 7.3006\n",
            "Epoch 71/100\n",
            "31/31 [==============================] - 1s 14ms/step - loss: 4.7702 - mae: 5.2453 - val_loss: 6.4269 - val_mae: 6.9128\n",
            "Epoch 72/100\n",
            "31/31 [==============================] - 1s 14ms/step - loss: 4.7823 - mae: 5.2620 - val_loss: 7.2656 - val_mae: 7.7498\n",
            "Epoch 73/100\n",
            "31/31 [==============================] - 1s 14ms/step - loss: 4.7636 - mae: 5.2407 - val_loss: 6.6354 - val_mae: 7.1138\n",
            "Epoch 74/100\n",
            "31/31 [==============================] - 1s 24ms/step - loss: 4.8074 - mae: 5.2850 - val_loss: 6.4095 - val_mae: 6.8939\n",
            "Epoch 75/100\n",
            "31/31 [==============================] - 1s 21ms/step - loss: 4.7586 - mae: 5.2378 - val_loss: 7.2929 - val_mae: 7.7771\n",
            "Epoch 76/100\n",
            "31/31 [==============================] - 1s 15ms/step - loss: 4.7946 - mae: 5.2699 - val_loss: 7.1380 - val_mae: 7.6189\n",
            "Epoch 77/100\n",
            "31/31 [==============================] - 1s 14ms/step - loss: 4.7622 - mae: 5.2383 - val_loss: 6.1474 - val_mae: 6.6328\n",
            "Epoch 78/100\n",
            "31/31 [==============================] - 1s 15ms/step - loss: 4.7545 - mae: 5.2292 - val_loss: 6.0614 - val_mae: 6.5444\n",
            "Epoch 79/100\n",
            "31/31 [==============================] - 1s 14ms/step - loss: 4.7574 - mae: 5.2315 - val_loss: 6.5853 - val_mae: 7.0638\n",
            "Epoch 80/100\n",
            "31/31 [==============================] - 1s 14ms/step - loss: 4.7517 - mae: 5.2264 - val_loss: 7.0892 - val_mae: 7.5713\n",
            "Epoch 81/100\n",
            "31/31 [==============================] - 1s 14ms/step - loss: 4.7896 - mae: 5.2684 - val_loss: 7.2866 - val_mae: 7.7667\n",
            "Epoch 82/100\n",
            "31/31 [==============================] - 1s 14ms/step - loss: 4.6982 - mae: 5.1739 - val_loss: 6.4729 - val_mae: 6.9514\n",
            "Epoch 83/100\n",
            "31/31 [==============================] - 1s 15ms/step - loss: 4.7672 - mae: 5.2477 - val_loss: 8.2857 - val_mae: 8.7733\n",
            "Epoch 84/100\n",
            "31/31 [==============================] - 1s 14ms/step - loss: 4.8319 - mae: 5.3111 - val_loss: 6.9974 - val_mae: 7.4805\n",
            "Epoch 85/100\n",
            "31/31 [==============================] - 1s 14ms/step - loss: 4.8473 - mae: 5.3221 - val_loss: 8.4497 - val_mae: 8.9361\n",
            "Epoch 86/100\n",
            "31/31 [==============================] - 1s 14ms/step - loss: 4.8458 - mae: 5.3257 - val_loss: 6.7086 - val_mae: 7.1923\n",
            "Epoch 87/100\n",
            "31/31 [==============================] - 1s 14ms/step - loss: 4.6719 - mae: 5.1478 - val_loss: 6.2920 - val_mae: 6.7699\n",
            "Epoch 88/100\n",
            "31/31 [==============================] - 1s 14ms/step - loss: 4.7209 - mae: 5.1949 - val_loss: 7.0590 - val_mae: 7.5372\n",
            "Epoch 89/100\n",
            "31/31 [==============================] - 1s 14ms/step - loss: 4.6758 - mae: 5.1499 - val_loss: 6.6347 - val_mae: 7.1161\n",
            "Epoch 90/100\n",
            "31/31 [==============================] - 1s 15ms/step - loss: 4.7619 - mae: 5.2405 - val_loss: 5.8234 - val_mae: 6.3011\n",
            "Epoch 91/100\n",
            "31/31 [==============================] - 1s 14ms/step - loss: 4.8438 - mae: 5.3189 - val_loss: 6.3674 - val_mae: 6.8482\n",
            "Epoch 92/100\n",
            "31/31 [==============================] - 1s 14ms/step - loss: 4.6590 - mae: 5.1346 - val_loss: 7.6980 - val_mae: 8.1893\n",
            "Epoch 93/100\n",
            "31/31 [==============================] - 1s 14ms/step - loss: 4.6701 - mae: 5.1469 - val_loss: 6.8635 - val_mae: 7.3457\n",
            "Epoch 94/100\n",
            "31/31 [==============================] - 1s 26ms/step - loss: 4.5809 - mae: 5.0560 - val_loss: 5.8857 - val_mae: 6.3686\n",
            "Epoch 95/100\n",
            "31/31 [==============================] - 1s 25ms/step - loss: 4.6389 - mae: 5.1154 - val_loss: 6.0696 - val_mae: 6.5539\n",
            "Epoch 96/100\n",
            "31/31 [==============================] - 1s 15ms/step - loss: 4.6443 - mae: 5.1225 - val_loss: 6.2183 - val_mae: 6.6972\n",
            "Epoch 97/100\n",
            "31/31 [==============================] - 1s 15ms/step - loss: 4.6850 - mae: 5.1630 - val_loss: 7.3146 - val_mae: 7.7999\n",
            "Epoch 98/100\n",
            "31/31 [==============================] - 1s 14ms/step - loss: 4.6639 - mae: 5.1401 - val_loss: 6.1395 - val_mae: 6.6192\n",
            "Epoch 99/100\n",
            "31/31 [==============================] - 1s 14ms/step - loss: 4.6504 - mae: 5.1281 - val_loss: 6.4439 - val_mae: 6.9245\n",
            "Epoch 100/100\n",
            "31/31 [==============================] - 1s 14ms/step - loss: 4.5863 - mae: 5.0625 - val_loss: 5.7454 - val_mae: 6.2217\n"
          ]
        }
      ],
      "source": [
        "# Reset states generated by Keras\n",
        "tf.keras.backend.clear_session()\n",
        "\n",
        "# Build the model\n",
        "model = tf.keras.models.Sequential([\n",
        "  tf.keras.layers.Lambda(lambda x: tf.expand_dims(x, axis=-1),\n",
        "                      input_shape=[None]),\n",
        "   tf.keras.layers.Bidirectional(tf.keras.layers.LSTM(32, return_sequences=True)),\n",
        "  tf.keras.layers.Bidirectional(tf.keras.layers.LSTM(32)),\n",
        "  tf.keras.layers.Dense(1),\n",
        "  tf.keras.layers.Lambda(lambda x: x * 100.0)\n",
        "])\n",
        "\n",
        "# Set the learning rate\n",
        "learning_rate = 2e-6\n",
        "\n",
        "# Set the optimizer \n",
        "optimizer = tf.keras.optimizers.SGD(learning_rate=learning_rate, momentum=0.9)\n",
        "\n",
        "# Set the training parameters\n",
        "model.compile(loss=tf.keras.losses.Huber(),\n",
        "              optimizer=optimizer,\n",
        "              metrics=[\"mae\"])\n",
        "\n",
        "# Train the model\n",
        "history = model.fit(dataset,epochs=100, validation_data=val_set)"
      ]
    }
  ],
  "metadata": {
    "accelerator": "GPU",
    "colab": {
      "provenance": [],
      "include_colab_link": true
    },
    "kernelspec": {
      "display_name": "Python 3",
      "language": "python",
      "name": "python3"
    },
    "language_info": {
      "codemirror_mode": {
        "name": "ipython",
        "version": 3
      },
      "file_extension": ".py",
      "mimetype": "text/x-python",
      "name": "python",
      "nbconvert_exporter": "python",
      "pygments_lexer": "ipython3",
      "version": "3.7.4"
    },
    "gpuClass": "standard"
  },
  "nbformat": 4,
  "nbformat_minor": 0
}